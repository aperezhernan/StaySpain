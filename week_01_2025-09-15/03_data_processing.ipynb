{
 "cells": [
  {
   "cell_type": "code",
   "execution_count": 12,
   "id": "14b025f2-fca2-4c10-a13c-30ae5b774831",
   "metadata": {},
   "outputs": [],
   "source": [
    "import pandas as pd\n",
    "import numpy as np"
   ]
  },
  {
   "cell_type": "markdown",
   "id": "afd70589-7768-459a-aa2e-e23bf3481fa7",
   "metadata": {},
   "source": [
    "## Definición de funciones"
   ]
  },
  {
   "cell_type": "markdown",
   "id": "dffd3b7b-b9df-4260-8c71-99686c39233b",
   "metadata": {},
   "source": [
    "### Data Cleaning Functions"
   ]
  },
  {
   "cell_type": "markdown",
   "id": "a40fab64-cebe-4e8d-a2b5-2f9c705ce21a",
   "metadata": {},
   "source": [
    "En el caso de alojamientos duplicados (aparment_id duplicados) se mantiene el que tiene una insert date mas actual"
   ]
  },
  {
   "cell_type": "code",
   "execution_count": 13,
   "id": "f9bce8f9-931c-46a5-a050-7f4dbeed9d21",
   "metadata": {},
   "outputs": [],
   "source": [
    "def handle_duplicates(df, apartment_id, insert_date):\n",
    "    \"\"\"Eliminación de duplicados según insert_date\"\"\"\n",
    "    df_clean = df.copy()\n",
    "    \n",
    "    # Encontrar duplicados\n",
    "    duplicados = df_clean[df_clean.duplicated(apartment_id, keep=False)]\n",
    "    \n",
    "    if duplicados.empty:\n",
    "        print(\"No se encontraron registros duplicados.\")\n",
    "        return None\n",
    "    \n",
    "    # Ordenar duplicados por fecha (más reciente primero)\n",
    "    duplicados_ordenados = duplicados.sort_values(by=[apartment_id, insert_date], ascending=[True, False])\n",
    "    \n",
    "    # Mantener solo el registro más reciente de cada duplicado\n",
    "    df_clean = df_clean.sort_values(insert_date, ascending=False)\\\n",
    "                     .drop_duplicates(apartment_id, keep='first')\\\n",
    "                     .sort_index()\n",
    "       \n",
    "    return df_clean"
   ]
  },
  {
   "cell_type": "code",
   "execution_count": 14,
   "id": "ae66cf03-96db-4a56-a48d-28f0ee5bfce6",
   "metadata": {},
   "outputs": [],
   "source": [
    "def input_price(df, price, room_type, accommodates, neighbourhood_name):\n",
    "    \"\"\"Imputación de precios\"\"\"\n",
    "    df_clean = df.copy()\n",
    "    \n",
    "    # Calcular la media según alojamiento, capacidad y localización\n",
    "    avgs = df_clean.groupby([room_type, accommodates, neighbourhood_name])[price].transform('mean')\n",
    "    df_clean[price] = df_clean[price].fillna(avgs)\n",
    "    \n",
    "    return df_clean"
   ]
  },
  {
   "cell_type": "code",
   "execution_count": 15,
   "id": "9e71f19e-b91f-49ef-9ec5-9a900ce31666",
   "metadata": {},
   "outputs": [],
   "source": [
    "def correct_data_types_str_to_date(df):\n",
    "    \"\"\"Corrección de tipos de datos de str a date\"\"\"\n",
    "    df_clean = df.copy()\n",
    "    \n",
    "    # Conversión de tipos\n",
    "    df_clean['first_review_date'] = pd.to_datetime(df_clean['first_review_date'], errors='coerce', format='%d/%m/%Y')\n",
    "    df_clean['last_review_date'] = pd.to_datetime(df_clean['last_review_date'], errors='coerce', format='%d/%m/%Y')\n",
    "    df_clean['insert_date'] = pd.to_datetime(df_clean['insert_date'], errors='coerce', format='%d/%m/%Y')\n",
    "\n",
    "    return df_clean"
   ]
  },
  {
   "cell_type": "code",
   "execution_count": 16,
   "id": "efe94cbb-4b4a-41a5-a15e-981d540676e8",
   "metadata": {},
   "outputs": [],
   "source": [
    "def correct_data_types_str_to_int(df):\n",
    "    \"\"\"Corrección de tipos de datos de str a int\"\"\"\n",
    "    df_clean = df.copy()\n",
    "    \n",
    "    # Conversión de tipos\n",
    "    df_clean['bedrooms'] = pd.to_numeric(df_clean['bedrooms'], errors='coerce').astype('Int64')\n",
    "    df_clean['bathrooms'] = pd.to_numeric(df_clean['bathrooms'], errors='coerce').astype('Int64')\n",
    "    \n",
    "    return df_clean"
   ]
  },
  {
   "cell_type": "code",
   "execution_count": 17,
   "id": "def0ec6d-0cce-48c2-a760-a8254a551f9a",
   "metadata": {},
   "outputs": [],
   "source": [
    "def fill_name(df):\n",
    "    \"\"\"Gestión de registros sin datos en 'name'\"\"\"\n",
    "    df_clean = df.copy()\n",
    "    \n",
    "    df_clean['name'] = df_clean['name'].fillna(df_clean['room_type'] + ' ' + df_clean['neighbourhood_name'])\n",
    "    \n",
    "    return df_clean"
   ]
  },
  {
   "cell_type": "code",
   "execution_count": 18,
   "id": "43dea499-4b98-4316-bb75-82808e0e6b49",
   "metadata": {},
   "outputs": [],
   "source": [
    "def fill_descriptions(df):\n",
    "    \"\"\"Gestión de registros sin datos en 'descriptions'\"\"\"\n",
    "    df_clean = df.copy()\n",
    "    \n",
    "    df_clean['description'] = df_clean['description'].fillna(df_clean['name'])\n",
    "    \n",
    "    return df_clean"
   ]
  },
  {
   "cell_type": "markdown",
   "id": "7fa23398",
   "metadata": {},
   "source": [
    "### Data Transformation Functions"
   ]
  },
  {
   "cell_type": "code",
   "execution_count": 19,
   "id": "e1d7c954-c1ee-466f-a775-9f5440301cbe",
   "metadata": {},
   "outputs": [],
   "source": [
    "def reviews_format(df):\n",
    "    \"\"\"Formatear las variables de review'\"\"\"\n",
    "    df_clean = df.copy()\n",
    "    \n",
    "    df_clean['review_scores_rating'] = df_clean['review_scores_rating'] / 10\n",
    "    df_clean['review_scores_accuracy'] = df_clean['review_scores_accuracy'] / 10\n",
    "    df_clean['review_scores_cleanliness'] = df_clean['review_scores_cleanliness'] / 10\n",
    "    df_clean['review_scores_checkin'] = df_clean['review_scores_checkin'] / 10\n",
    "    df_clean['review_scores_communication'] = df_clean['review_scores_communication'] / 10\n",
    "    df_clean['review_scores_location'] = df_clean['review_scores_location'] / 10\n",
    "    df_clean['review_scores_value'] = df_clean['review_scores_value'] / 10\n",
    "\n",
    "    return df_clean"
   ]
  },
  {
   "cell_type": "code",
   "execution_count": 20,
   "id": "b33d163e-8fc9-40ba-ac31-1b04422272db",
   "metadata": {},
   "outputs": [],
   "source": [
    "def extract_amenities_features(df, amenities_to_check):\n",
    "    \"\"\"Extracción de características de amenities.\n",
    "    Es necesario Definir tu lista de amenities externamente. Por ejemplo:\n",
    "    my_amenities = ['WiFi', 'Air Conditioning', 'Pool', 'Kitchen', 'Washer', 'TV', 'Parking', 'Elevator']\"\"\"\n",
    "    df_transformed = df.copy()\n",
    "    \n",
    "    # Verificar si la columna amenities_list existe\n",
    "    if 'amenities_list' in df_transformed.columns:\n",
    "        for amenity in amenities_to_check:\n",
    "            col_name = f'has_{amenity.lower().replace(\" \", \"_\")}'\n",
    "            df_transformed[col_name] = df_transformed['amenities_list'].str.contains(amenity, na=False).astype(int)\n",
    "    \n",
    "    return df_transformed"
   ]
  },
  {
   "cell_type": "markdown",
   "id": "fb851ac1-15c5-4e1f-b547-f52c05d6b5d4",
   "metadata": {},
   "source": [
    "## MAIN"
   ]
  },
  {
   "cell_type": "code",
   "execution_count": 21,
   "id": "81364152-3ad2-40c2-a506-6bf5e061c2d2",
   "metadata": {},
   "outputs": [
    {
     "name": "stdout",
     "output_type": "stream",
     "text": [
      "Cargando datos crudos...\n",
      "Aplicando limpieza de datos...\n",
      "Aplicando transformación de datos...\n",
      "Datos limpios guardados en: data/staySpain_cleaned.pkl\n",
      "Datos limpios guardados en: data/staySpain_cleaned.csv\n"
     ]
    }
   ],
   "source": [
    "import pandas as pd\n",
    "\n",
    "# Cargar datos\n",
    "print(\"Cargando datos crudos...\")\n",
    "input_path = r\"data/staySpain_raw.csv\"\n",
    "df = pd.read_csv(input_path)\n",
    "\n",
    "# Aplicar funciones de limpieza\n",
    "print(\"Aplicando limpieza de datos...\")\n",
    "df_clean = handle_duplicates(df, 'apartment_id', 'insert_date')\n",
    "df_clean = correct_data_types_str_to_date(df_clean)\n",
    "df_clean = correct_data_types_str_to_int(df_clean)\n",
    "df_clean = correct_data_types_str_to_int(df_clean)\n",
    "\n",
    "# Aplicar funciones de transformación\n",
    "print(\"Aplicando transformación de datos...\")\n",
    "df_clean = reviews_format(df_clean)\n",
    "\n",
    "# Aplicar funciones de reducción\n",
    "#print(\"Aplicando reducción de datos...\")\n",
    "\n",
    "\n",
    "# Guardar datos limpios\n",
    "output_path = r\"data/staySpain_cleaned.pkl\"\n",
    "df_clean.to_pickle(output_path)\n",
    "output_path2 = r\"data/staySpain_cleaned.csv\"\n",
    "df_clean.to_csv(output_path2)\n",
    "print(f\"Datos limpios guardados en: {output_path}\")\n",
    "print(f\"Datos limpios guardados en: {output_path2}\")\n"
   ]
  }
 ],
 "metadata": {
  "kernelspec": {
   "display_name": "Python 3",
   "language": "python",
   "name": "python3"
  },
  "language_info": {
   "codemirror_mode": {
    "name": "ipython",
    "version": 3
   },
   "file_extension": ".py",
   "mimetype": "text/x-python",
   "name": "python",
   "nbconvert_exporter": "python",
   "pygments_lexer": "ipython3",
   "version": "3.10.11"
  }
 },
 "nbformat": 4,
 "nbformat_minor": 5
}
