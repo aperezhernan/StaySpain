{
 "cells": [
  {
   "cell_type": "markdown",
   "id": "963cf499-3551-4ad6-b9c3-9e4d57a30298",
   "metadata": {},
   "source": [
    "# KPI             \n",
    "**2025-09-16**"
   ]
  },
  {
   "cell_type": "code",
   "execution_count": 1,
   "id": "9e30f341-5451-4ccb-ae9b-b0efb19f0fbf",
   "metadata": {},
   "outputs": [],
   "source": [
    "import pandas as pd\n",
    "import matplotlib as plt\n",
    "import numpy as np"
   ]
  },
  {
   "cell_type": "markdown",
   "id": "76eff904-7034-48d1-a2d6-8f00cae1b17e",
   "metadata": {},
   "source": [
    "### Data load - Pendiente confirmar archivo fuente"
   ]
  },
  {
   "cell_type": "code",
   "execution_count": 2,
   "id": "c34942bd-fcb7-430c-bac0-31d2a3272982",
   "metadata": {},
   "outputs": [],
   "source": [
    "input_path = r\"data\\staySpain_cleaned.pkl\"\n",
    "kpi_df = pd.read_pickle(input_path)"
   ]
  },
  {
   "cell_type": "markdown",
   "id": "42185c18-6bb5-4796-b7d0-f7a91b51cad1",
   "metadata": {},
   "source": [
    "---"
   ]
  },
  {
   "cell_type": "markdown",
   "id": "12dad66b-d181-4361-ac1e-096dcf814f95",
   "metadata": {},
   "source": [
    "## KPI Semanal 1"
   ]
  },
  {
   "attachments": {
    "84e7499f-c0cd-4cc9-a2b4-5aa694e77ea1.png": {
     "image/png": "[encoded data removed]"
    }
   },
   "cell_type": "markdown",
   "id": "a6fcf1f7-3c27-48e5-9cb6-c8ce01db115f",
   "metadata": {},
   "source": [
    "![image.png](attachment:84e7499f-c0cd-4cc9-a2b4-5aa694e77ea1.png)"
   ]
  },
  {
   "cell_type": "code",
   "execution_count": 3,
   "id": "3ab1f786-6c82-44d3-8398-4e666a059edb",
   "metadata": {},
   "outputs": [],
   "source": [
    "dias_mes = 30\n",
    "num_dias_disponible = kpi_df.availability_30.mean()\n",
    "num_dias_ocupado = dias_mes - num_dias_disponible\n",
    "tasa_ocupacion = (num_dias_ocupado / dias_mes) * 100"
   ]
  },
  {
   "cell_type": "markdown",
   "id": "55b53850-3ed3-46bb-9411-a15828dbdc6a",
   "metadata": {},
   "source": [
    "### Tasa de ocupación global"
   ]
  },
  {
   "cell_type": "code",
   "execution_count": 13,
   "id": "2092985f-ff4b-48e8-aa39-8e6e06aa3901",
   "metadata": {},
   "outputs": [
    {
     "name": "stdout",
     "output_type": "stream",
     "text": [
      "Tasa de ocupación mensual global: 59.28%\n"
     ]
    }
   ],
   "source": [
    "resumen_kpi1 = f\"Tasa de ocupación mensual global: {round(tasa_ocupacion,2)}%\"\n",
    "print(resumen_kpi1)"
   ]
  },
  {
   "cell_type": "markdown",
   "id": "41999fc9-e3d6-41b5-bdcc-fed68eb9f71d",
   "metadata": {},
   "source": [
    "---"
   ]
  },
  {
   "cell_type": "markdown",
   "id": "e3591931-7371-4286-84b5-8dc0e09e4865",
   "metadata": {},
   "source": [
    "## KPI Semanal 2"
   ]
  },
  {
   "attachments": {
    "b4e8d2cd-0186-43ce-bf37-ae83a046334b.png": {
     "image/png": "[encoded data removed]"
    }
   },
   "cell_type": "markdown",
   "id": "22703fb9-4fdb-411f-92e7-95b76a3714fd",
   "metadata": {},
   "source": [
    "![image.png](attachment:b4e8d2cd-0186-43ce-bf37-ae83a046334b.png)"
   ]
  },
  {
   "cell_type": "code",
   "execution_count": 5,
   "id": "f9d6850d-b423-4204-a07b-d16f4791544e",
   "metadata": {},
   "outputs": [],
   "source": [
    "dias_mes = 30\n",
    "ocupacion_por_ciudad = kpi_df.groupby(by='city')['availability_30'].mean().to_frame()\n",
    "ocupacion_por_ciudad['dias_ocupados'] = dias_mes - ocupacion_por_ciudad.availability_30\n",
    "ocupacion_por_ciudad['tasa_ocupacion'] = (ocupacion_por_ciudad.dias_ocupados / dias_mes) * 100\n",
    "ocupacion_por_ciudad.sort_values(by=\"tasa_ocupacion\", ascending=False, inplace=True)"
   ]
  },
  {
   "cell_type": "markdown",
   "id": "b00f1bfd-498e-475a-a8fa-a59d9fafd195",
   "metadata": {},
   "source": [
    "### Ciudad con mayor ocupación"
   ]
  },
  {
   "cell_type": "code",
   "execution_count": 14,
   "id": "67ef6041-0b99-47fe-9cb6-95c0b44c5856",
   "metadata": {},
   "outputs": [
    {
     "name": "stdout",
     "output_type": "stream",
     "text": [
      "Ciudad con mayor ocupación en el último mes: MADRID\n"
     ]
    }
   ],
   "source": [
    "ciudad_max_ocupacion = ocupacion_por_ciudad.tasa_ocupacion.idxmax()\n",
    "resumen_kpi2 = f\"Ciudad con mayor ocupación en el último mes: {ciudad_max_ocupacion.upper()}\"\n",
    "print(resumen_kpi2)"
   ]
  },
  {
   "cell_type": "code",
   "execution_count": 7,
   "id": "b51d8342-82ad-4a5c-8ffb-cbba35df504d",
   "metadata": {},
   "outputs": [
    {
     "data": {
      "application/vnd.microsoft.datawrangler.viewer.v0+json": {
       "columns": [
        {
         "name": "city",
         "rawType": "object",
         "type": "string"
        },
        {
         "name": "tasa_ocupacion",
         "rawType": "float64",
         "type": "float"
        }
       ],
       "ref": "03638833-aa6d-4f13-b76d-572f3eef6cf7",
       "rows": [
        [
         "madrid",
         "65.36771728748806"
        ],
        [
         "barcelona",
         "63.040992977298714"
        ],
        [
         "malaga",
         "59.57718780727631"
        ],
        [
         "mallorca",
         "55.80291970802921"
        ],
        [
         "valencia",
         "54.960718294051624"
        ],
        [
         "sevilla",
         "53.929618768328446"
        ],
        [
         "girona",
         "51.73886328725038"
        ],
        [
         "menorca",
         "50.6280193236715"
        ]
       ],
       "shape": {
        "columns": 1,
        "rows": 8
       }
      },
      "text/html": [
       "<div>\n",
       "<style scoped>\n",
       "    .dataframe tbody tr th:only-of-type {\n",
       "        vertical-align: middle;\n",
       "    }\n",
       "\n",
       "    .dataframe tbody tr th {\n",
       "        vertical-align: top;\n",
       "    }\n",
       "\n",
       "    .dataframe thead th {\n",
       "        text-align: right;\n",
       "    }\n",
       "</style>\n",
       "<table border=\"1\" class=\"dataframe\">\n",
       "  <thead>\n",
       "    <tr style=\"text-align: right;\">\n",
       "      <th></th>\n",
       "      <th>tasa_ocupacion</th>\n",
       "    </tr>\n",
       "    <tr>\n",
       "      <th>city</th>\n",
       "      <th></th>\n",
       "    </tr>\n",
       "  </thead>\n",
       "  <tbody>\n",
       "    <tr>\n",
       "      <th>madrid</th>\n",
       "      <td>65.367717</td>\n",
       "    </tr>\n",
       "    <tr>\n",
       "      <th>barcelona</th>\n",
       "      <td>63.040993</td>\n",
       "    </tr>\n",
       "    <tr>\n",
       "      <th>malaga</th>\n",
       "      <td>59.577188</td>\n",
       "    </tr>\n",
       "    <tr>\n",
       "      <th>mallorca</th>\n",
       "      <td>55.802920</td>\n",
       "    </tr>\n",
       "    <tr>\n",
       "      <th>valencia</th>\n",
       "      <td>54.960718</td>\n",
       "    </tr>\n",
       "    <tr>\n",
       "      <th>sevilla</th>\n",
       "      <td>53.929619</td>\n",
       "    </tr>\n",
       "    <tr>\n",
       "      <th>girona</th>\n",
       "      <td>51.738863</td>\n",
       "    </tr>\n",
       "    <tr>\n",
       "      <th>menorca</th>\n",
       "      <td>50.628019</td>\n",
       "    </tr>\n",
       "  </tbody>\n",
       "</table>\n",
       "</div>"
      ],
      "text/plain": [
       "           tasa_ocupacion\n",
       "city                     \n",
       "madrid          65.367717\n",
       "barcelona       63.040993\n",
       "malaga          59.577188\n",
       "mallorca        55.802920\n",
       "valencia        54.960718\n",
       "sevilla         53.929619\n",
       "girona          51.738863\n",
       "menorca         50.628019"
      ]
     },
     "metadata": {},
     "output_type": "display_data"
    }
   ],
   "source": [
    "display(ocupacion_por_ciudad.tasa_ocupacion.to_frame())"
   ]
  },
  {
   "cell_type": "markdown",
   "id": "7bf8216c-61de-4a69-84fa-bac745a05875",
   "metadata": {},
   "source": [
    "---"
   ]
  },
  {
   "cell_type": "markdown",
   "id": "e6c881f0-52d7-4c23-9948-69098a240179",
   "metadata": {},
   "source": [
    "## KPI Semanal 3"
   ]
  },
  {
   "attachments": {
    "f5adf897-05d2-42ab-8c04-8ebdf3d141d4.png": {
     "image/png": "[encoded data removed]"
    }
   },
   "cell_type": "markdown",
   "id": "89f18d9c-2e56-4973-8247-56bbded4e733",
   "metadata": {},
   "source": [
    "![image.png](attachment:f5adf897-05d2-42ab-8c04-8ebdf3d141d4.png)"
   ]
  },
  {
   "cell_type": "markdown",
   "id": "41b33ab4-5f4a-48ee-b0ae-63b50fbc83cf",
   "metadata": {},
   "source": [
    "### Índice de satisfacción general"
   ]
  },
  {
   "cell_type": "code",
   "execution_count": 8,
   "id": "2aacdab2-6b4c-4916-910b-7644cd661959",
   "metadata": {},
   "outputs": [
    {
     "name": "stdout",
     "output_type": "stream",
     "text": [
      "Indice de satisfacción general: 92.01\n"
     ]
    }
   ],
   "source": [
    "resumen_kpi3 = f\"Indice de satisfacción general: {round(kpi_df.review_scores_rating.mean(),2)}\"\n",
    "print(resumen_kpi3)\n",
    "# queda tener en cuenta que no haya apartment_id duplicados"
   ]
  },
  {
   "cell_type": "markdown",
   "id": "bb521eb9-96aa-4552-8481-baf7ea585de2",
   "metadata": {},
   "source": [
    "---"
   ]
  },
  {
   "cell_type": "markdown",
   "id": "1d4aa61e-9206-4530-8721-f651fc4568e2",
   "metadata": {},
   "source": [
    "## KPI Semanal 4"
   ]
  },
  {
   "attachments": {
    "39f2eff9-5cfa-444f-a8da-5df66579befb.png": {
     "image/png": "[encoded data removed]"
    }
   },
   "cell_type": "markdown",
   "id": "e7a527ed-f9a4-43e8-8250-0a0c9ccbb1b0",
   "metadata": {},
   "source": [
    "![image.png](attachment:39f2eff9-5cfa-444f-a8da-5df66579befb.png)"
   ]
  },
  {
   "cell_type": "code",
   "execution_count": 9,
   "id": "10470b65-7c2e-4802-9aed-ea75af422d03",
   "metadata": {},
   "outputs": [],
   "source": [
    "avg_scores = {\n",
    "    'accuracy':      kpi_df.review_scores_accuracy.mean(),\n",
    "    'cleanliness':   kpi_df.review_scores_cleanliness.mean(),\n",
    "    'checkin':       kpi_df.review_scores_checkin.mean(),\n",
    "    'communication': kpi_df.review_scores_communication.mean(),\n",
    "    'location' :     kpi_df.review_scores_location.mean()\n",
    "    }\n",
    "\n",
    "# Sorting the dictionary by value in descending order\n",
    "sorted_avg_scores = sorted(avg_scores.items(), key=lambda item: item[1], reverse=True)"
   ]
  },
  {
   "cell_type": "markdown",
   "id": "043138e2-c546-46bb-8cd0-4a29442ce8f8",
   "metadata": {},
   "source": [
    "### Ítem con mayor satisfacción promedio"
   ]
  },
  {
   "cell_type": "code",
   "execution_count": 10,
   "id": "85c7fe9b-ce61-4049-afd0-6eff2182f83f",
   "metadata": {},
   "outputs": [
    {
     "name": "stdout",
     "output_type": "stream",
     "text": [
      "Ítem con mayor satisfacción promedio: COMMUNICATION\n"
     ]
    }
   ],
   "source": [
    "resumen_kpi4 = f\"Ítem con mayor satisfacción promedio: {sorted_avg_scores[0][0].upper()}\"\n",
    "print(resumen_kpi4)"
   ]
  },
  {
   "cell_type": "code",
   "execution_count": 11,
   "id": "cfb1e869-9561-4557-94a7-35286adb6d33",
   "metadata": {},
   "outputs": [
    {
     "name": "stdout",
     "output_type": "stream",
     "text": [
      "Satisfacción media para cada item:\n",
      "----------------------------------\n",
      "\n",
      "9.64%\tcommunication\n",
      "9.63%\tcheckin\n",
      "9.53%\tlocation\n",
      "9.45%\taccuracy\n",
      "9.32%\tcleanliness\n"
     ]
    }
   ],
   "source": [
    "# Printing the sorted key-value pairs\n",
    "print(\"Satisfacción media para cada item:\")\n",
    "print(\"----------------------------------\")\n",
    "print()\n",
    "for key, value in sorted_avg_scores:\n",
    "    print(f\"{round(value,2)}%\\t{key}\")"
   ]
  },
  {
   "cell_type": "markdown",
   "id": "0418c6ba-f110-4a78-a98b-806c3d141d04",
   "metadata": {},
   "source": [
    "---\n"
   ]
  },
  {
   "cell_type": "markdown",
   "id": "43270197-0538-480a-a953-18ecc4f1ee87",
   "metadata": {},
   "source": [
    "## RESUMEN"
   ]
  },
  {
   "cell_type": "code",
   "execution_count": 12,
   "id": "71bc8546-f05c-4db1-a157-ec573ff831c8",
   "metadata": {},
   "outputs": [
    {
     "name": "stdout",
     "output_type": "stream",
     "text": [
      "KPI 1\t Tasa de ocupación global: 59.28%\n",
      "KPI 2\t Ciudad con mayor ocupación: MADRID\n",
      "KPI 3\t Indice de satisfacción general: 92.01\n",
      "KPI 4\t Ítem con mayor satisfacción promedio: COMMUNICATION\n"
     ]
    }
   ],
   "source": [
    "print(\"KPI 1\\t\", resumen_kpi1)\n",
    "print(\"KPI 2\\t\", resumen_kpi2)\n",
    "print(\"KPI 3\\t\", resumen_kpi3)\n",
    "print(\"KPI 4\\t\", resumen_kpi4)"
   ]
  }
 ],
 "metadata": {
  "kernelspec": {
   "display_name": "Python 3",
   "language": "python",
   "name": "python3"
  },
  "language_info": {
   "codemirror_mode": {
    "name": "ipython",
    "version": 3
   },
   "file_extension": ".py",
   "mimetype": "text/x-python",
   "name": "python",
   "nbconvert_exporter": "python",
   "pygments_lexer": "ipython3",
   "version": "3.12.4"
  }
 },
 "nbformat": 4,
 "nbformat_minor": 5
}
