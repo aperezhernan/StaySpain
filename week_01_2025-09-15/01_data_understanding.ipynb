{
 "cells": [
  {
   "cell_type": "markdown",
   "id": "3ac3ae94",
   "metadata": {},
   "source": [
    "**# 1. Data Understanding**\n",
    "\n",
    "- La fuente de los datos es una web que recopila datasets de distintos sectores para ofrecerlos mediante una suscripción.\n",
    "- El dataset está compuesto por información de inmuebles destinados al alquiler turístico, recopilada a partir de diferentes plataformas online.\n",
    "- Consta de 7001 registros, de los cuales 261 son duplicados.\n",
    "- El primer registro es de 04/01/2017, y el último de 31/12/2020. 4 años en total\n",
    "\n",
    "\n",
    "**## Columnas:**\n",
    "De entrada, disponemos de un total de 35 columnas diferentes, 5 menos que en el dataset original.\n",
    "\n",
    "- **apartment_id:** identificación del alojamiento turístico\n",
    "- **name:** nombre del alojamiento turístico\n",
    "- **description:** descripción detallada del alojamiento turístico\n",
    "- **host_id:** número de identificación de la persona que pone a disposición un apartamento turístico\n",
    "- **neighborhood_name:** nombre del barrio donde se encuentra el alojamiento turístico\n",
    "- **neighborhood_district:** nombre del distrito donde se encuentra el alojamiento turístico\n",
    "- **room_type:** tipo de alojamiento turístico\n",
    "- **accommodates:** capacidad del apartamento en personas\n",
    "- **bathrooms:** número de cuartos de baño disponibles en el alojamiento turístico\n",
    "- **bedrooms:** número de habitaciones disponibles en el alojamiento turístico\n",
    "- **beds:** cantidad de camas disponibles en el alojamiento turístico\n",
    "- **amenities_list:** lista de comodidades que presenta el alojamiento turístico\n",
    "- **price:** precio del alojamiento turístico en euros\n",
    "- **minimum_nights:** númeor de noches mínimas permitidas en el alojamiento turístico\n",
    "- **maximum_nights:** número de noches máximas permitidas en el alojamiento turístico\n",
    "- **has_availability:** disponibilidad para reservar el alojamiento turístico\n",
    "- **availability_30:** número de días disponibles del alojamiento turístico en un plazo de 30 días (desde la fecha de extracción)\n",
    "- **availability_60:** número de días disponibles del alojamiento turístico en un plazo de 60 días (desde la fecha de extracción)\n",
    "- **availability_90:** número de días disponibles del alojamiento turístico en un plazo de 90 días (desde la fecha de extracción)\n",
    "- **availability_365:** número de días disponibles del alojamiento turístico en un plazo de 365 días (desde la fecha de extracción)\n",
    "- **number_of_reviews:** número de comentarios que tiene el alojamiento turístico\n",
    "- **first_review_date:** fecha del primer comentario del alojamiento turístico\n",
    "- **last_review_date:** fecha del último comentario del alojamiento turístico\n",
    "- **review_scores_rating:** puntuación de 0 a 100 dada por los usuarios del alojamiento turístico\n",
    "- **review_scores_accuracy:** puntuación de 0 a 10 sobre la precisión de los detalles del alojamiento turístico\n",
    "- **review_scores_cleanliness:** puntuación de 0 a 10 sobre las condiciones higinénicas del alojamiento turístico\n",
    "- **review_scores_checkin:** puntuación de 0 a 10 sobre el momento de entrada al alojamiento turístico\n",
    "- **review_scores_communication:** puntuación de 0 a 10 sobre la comunicación del propietario con los usuarios del alojamiento turístico\n",
    "- **review_scores_location:** puntuación de 0 a 100 dada por los usuarios del alojamiento turístico\n",
    "- **review_scores_value:** puntuación de 0 a 100 dada por los usuarios del alojamiento turístico\n",
    "- **is_instant_bookable:** si puede reservarse sin necesidad de revisión por parte del propietario\n",
    "- **reviews_per_month:** número de comentarios que recibe el alojamiento turístico al mes\n",
    "- **country:** país en el que se encuentra el alojamiento turístico\n",
    "- **city:** ciudad en la que se encuentra el alojamiento turístico\n",
    "- **insert_date:** fecha de extracción de toda la información\n",
    "\n"
   ]
  }
 ],
 "metadata": {
  "kernelspec": {
   "display_name": "Python 3",
   "language": "python",
   "name": "python3"
  },
  "language_info": {
   "name": "python",
   "version": "3.11.9"
  }
 },
 "nbformat": 4,
 "nbformat_minor": 5
}
