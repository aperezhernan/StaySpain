{
 "cells": [
  {
   "cell_type": "markdown",
   "id": "bb168d92",
   "metadata": {},
   "source": [
    "# Data cleaning"
   ]
  },
  {
   "cell_type": "markdown",
   "id": "89e3b526-d2fa-4884-94fb-6b432ed56960",
   "metadata": {},
   "source": [
    "**2025-10-07**"
   ]
  },
  {
   "cell_type": "code",
   "execution_count": 1,
   "id": "4e3bae98",
   "metadata": {},
   "outputs": [],
   "source": [
    "import pandas as pd\n",
    "import numpy as np\n",
    "import re, unicodedata\n",
    "from pathlib import Path"
   ]
  },
  {
   "cell_type": "code",
   "execution_count": 2,
   "id": "4415696c",
   "metadata": {},
   "outputs": [],
   "source": [
    "# Visualizamos todas las columnas en el output\n",
    "pd.set_option(\"display.max_columns\", None)"
   ]
  },
  {
   "cell_type": "code",
   "execution_count": 3,
   "id": "90e722df",
   "metadata": {},
   "outputs": [],
   "source": [
    "# Importamos el CSV\n",
    "input_path = Path(\"data\") / \"staySpain_raw.csv\"\n",
    "df = pd.read_csv(input_path)"
   ]
  },
  {
   "cell_type": "code",
   "execution_count": 4,
   "id": "8a3718bb",
   "metadata": {},
   "outputs": [],
   "source": [
    "# Hacemos una copia de df para no modificar el df original\n",
    "df_clean = df.copy()"
   ]
  },
  {
   "cell_type": "markdown",
   "id": "fc607e16-f564-4902-a5f0-6f62a1f7160b",
   "metadata": {},
   "source": [
    "### Data Overview"
   ]
  },
  {
   "cell_type": "code",
   "execution_count": 5,
   "id": "84bc6ff5",
   "metadata": {},
   "outputs": [
    {
     "name": "stdout",
     "output_type": "stream",
     "text": [
      "<class 'pandas.core.frame.DataFrame'>\n",
      "RangeIndex: 10000 entries, 0 to 9999\n",
      "Data columns (total 35 columns):\n",
      " #   Column                       Non-Null Count  Dtype  \n",
      "---  ------                       --------------  -----  \n",
      " 0   apartment_id                 10000 non-null  int64  \n",
      " 1   name                         9997 non-null   object \n",
      " 2   description                  9862 non-null   object \n",
      " 3   host_id                      10000 non-null  int64  \n",
      " 4   neighbourhood_name           10000 non-null  object \n",
      " 5   neighbourhood_district       6079 non-null   object \n",
      " 6   room_type                    10000 non-null  object \n",
      " 7   accommodates                 10000 non-null  int64  \n",
      " 8   bathrooms                    9926 non-null   float64\n",
      " 9   bedrooms                     9930 non-null   float64\n",
      " 10  beds                         9955 non-null   float64\n",
      " 11  amenities_list               9983 non-null   object \n",
      " 12  price                        9746 non-null   float64\n",
      " 13  minimum_nights               10000 non-null  int64  \n",
      " 14  maximum_nights               10000 non-null  int64  \n",
      " 15  has_availability             9450 non-null   object \n",
      " 16  availability_30              10000 non-null  int64  \n",
      " 17  availability_60              10000 non-null  int64  \n",
      " 18  availability_90              10000 non-null  int64  \n",
      " 19  availability_365             10000 non-null  int64  \n",
      " 20  number_of_reviews            10000 non-null  int64  \n",
      " 21  first_review_date            7396 non-null   object \n",
      " 22  last_review_date             7395 non-null   object \n",
      " 23  review_scores_rating         7291 non-null   float64\n",
      " 24  review_scores_accuracy       7282 non-null   float64\n",
      " 25  review_scores_cleanliness    7288 non-null   float64\n",
      " 26  review_scores_checkin        7277 non-null   float64\n",
      " 27  review_scores_communication  7286 non-null   float64\n",
      " 28  review_scores_location       7276 non-null   float64\n",
      " 29  review_scores_value          7276 non-null   float64\n",
      " 30  is_instant_bookable          10000 non-null  object \n",
      " 31  reviews_per_month            7396 non-null   float64\n",
      " 32  country                      10000 non-null  object \n",
      " 33  city                         10000 non-null  object \n",
      " 34  insert_date                  10000 non-null  object \n",
      "dtypes: float64(12), int64(10), object(13)\n",
      "memory usage: 2.7+ MB\n"
     ]
    }
   ],
   "source": [
    "# Info de df_clean\n",
    "df_clean.info()"
   ]
  },
  {
   "cell_type": "code",
   "execution_count": 6,
   "id": "88a7dc0b",
   "metadata": {},
   "outputs": [
    {
     "data": {
      "text/plain": [
       "np.False_"
      ]
     },
     "execution_count": 6,
     "metadata": {},
     "output_type": "execute_result"
    }
   ],
   "source": [
    "# Comprobamos si hay filas enteras duplicadas\n",
    "df_clean.duplicated().any()"
   ]
  },
  {
   "cell_type": "code",
   "execution_count": 7,
   "id": "7b32fc1e",
   "metadata": {},
   "outputs": [
    {
     "data": {
      "text/plain": [
       "np.int64(350)"
      ]
     },
     "execution_count": 7,
     "metadata": {},
     "output_type": "execute_result"
    }
   ],
   "source": [
    "# Comprobamos si hay duplicados en \"apartment_id\"\n",
    "df_clean.duplicated(subset=\"apartment_id\").sum()"
   ]
  },
  {
   "cell_type": "code",
   "execution_count": 8,
   "id": "f39fdac1",
   "metadata": {},
   "outputs": [],
   "source": [
    "# Buscamos duplicados en \"apartment_id\"\n",
    "duplicados = df_clean[df_clean.duplicated(\"apartment_id\", keep=False)]"
   ]
  },
  {
   "cell_type": "markdown",
   "id": "34a0789c-6120-462b-a456-adf516ff00ca",
   "metadata": {},
   "source": [
    "### Delete duplicated apartments - keep newer"
   ]
  },
  {
   "cell_type": "code",
   "execution_count": 9,
   "id": "0442a717",
   "metadata": {},
   "outputs": [],
   "source": [
    "# Ordenamos los registros para eliminar los duplicados con \"insert_date\" más antigua\n",
    "df_clean = df_clean.sort_values(\"insert_date\", ascending=False)\\\n",
    "                     .drop_duplicates(\"apartment_id\", keep='first')\\\n",
    "                     .sort_index()"
   ]
  },
  {
   "cell_type": "markdown",
   "id": "347806d6-9045-4376-83f9-4dc6e1a867fb",
   "metadata": {},
   "source": [
    "### Change Datatypes"
   ]
  },
  {
   "cell_type": "code",
   "execution_count": 10,
   "id": "897d8612",
   "metadata": {},
   "outputs": [],
   "source": [
    "# df_clean.dtypes"
   ]
  },
  {
   "cell_type": "markdown",
   "id": "fceb699f-9e83-4386-91a0-46d2dbfea476",
   "metadata": {},
   "source": [
    "#### Datatype: dates"
   ]
  },
  {
   "cell_type": "code",
   "execution_count": 11,
   "id": "14ac3625",
   "metadata": {},
   "outputs": [],
   "source": [
    "# Conversión de datos a date en las columnas que muestran fechas\n",
    "df_clean[\"first_review_date\"] = pd.to_datetime(df_clean['first_review_date'], errors='coerce', format='%d/%m/%Y')\n",
    "df_clean[\"last_review_date\"] = pd.to_datetime(df_clean['last_review_date'], errors='coerce', format='%d/%m/%Y')\n",
    "df_clean[\"insert_date\"] = pd.to_datetime(df_clean['insert_date'], errors='coerce', format='%d/%m/%Y')"
   ]
  },
  {
   "cell_type": "markdown",
   "id": "74020a11-b327-44c1-960c-5c51738c0f43",
   "metadata": {},
   "source": [
    "#### Datatype: numbers"
   ]
  },
  {
   "cell_type": "code",
   "execution_count": 12,
   "id": "51592de8",
   "metadata": {},
   "outputs": [],
   "source": [
    "# Conversión de float a int\n",
    "df_clean[\"bathrooms\"] = df_clean['bathrooms'].astype(\"Int64\")\n",
    "df_clean[\"bedrooms\"] = df_clean['bedrooms'].astype(\"Int64\")\n",
    "df_clean[\"beds\"] = df_clean['beds'].astype(\"Int64\")"
   ]
  },
  {
   "cell_type": "markdown",
   "id": "e5b8da7e-ab3c-485a-aab2-2cb390484d84",
   "metadata": {},
   "source": [
    "#### Datatype: booleans"
   ]
  },
  {
   "cell_type": "code",
   "execution_count": 13,
   "id": "55df7ce5-9ea1-46dc-b209-cc3b1e926f76",
   "metadata": {},
   "outputs": [
    {
     "name": "stderr",
     "output_type": "stream",
     "text": [
      "C:\\Users\\Cristina\\AppData\\Local\\Temp\\ipykernel_17400\\1632188453.py:2: FutureWarning: Downcasting behavior in `replace` is deprecated and will be removed in a future version. To retain the old behavior, explicitly call `result.infer_objects(copy=False)`. To opt-in to the future behavior, set `pd.set_option('future.no_silent_downcasting', True)`\n",
      "  df_clean[\"is_instant_bookable_bool\"] = df_clean[\"is_instant_bookable\"].replace({\"VERDADERO\": True, \"FALSO\": False}).astype(bool)\n"
     ]
    }
   ],
   "source": [
    "# Creamos una columna nueva para convertir \"is_instant_bookable\" en booleano\n",
    "df_clean[\"is_instant_bookable_bool\"] = df_clean[\"is_instant_bookable\"].replace({\"VERDADERO\": True, \"FALSO\": False}).astype(bool)\n",
    "\n",
    "# Eliminamos la columna original\n",
    "df_clean = df_clean.drop(columns=\"is_instant_bookable\")\n",
    "\n",
    "# Renombramos la nueva columna\n",
    "df_clean = df_clean.rename({\"is_instant_bookable_bool\":\"is_instant_bookable\"}, axis=1)"
   ]
  },
  {
   "cell_type": "code",
   "execution_count": 14,
   "id": "c04e0929",
   "metadata": {},
   "outputs": [],
   "source": [
    "# # Repetimos proceso con has_availability pero con map() para mantener los NaN\n",
    "mapping={\"VERDADERO\":True, \"FALSO\":False}\n",
    "df_clean[\"has_availability\"] = df_clean[\"has_availability\"].map(mapping)\n"
   ]
  },
  {
   "cell_type": "code",
   "execution_count": 15,
   "id": "cc4ca005",
   "metadata": {},
   "outputs": [
    {
     "data": {
      "text/plain": [
       "np.int64(534)"
      ]
     },
     "execution_count": 15,
     "metadata": {},
     "output_type": "execute_result"
    }
   ],
   "source": [
    "df_clean[\"has_availability\"].isna().sum()"
   ]
  },
  {
   "cell_type": "markdown",
   "id": "86254c05-f1dc-4edb-b2ff-35e90f049080",
   "metadata": {},
   "source": [
    "### Names String Imputation"
   ]
  },
  {
   "cell_type": "code",
   "execution_count": 16,
   "id": "48b87b57",
   "metadata": {},
   "outputs": [],
   "source": [
    "# Imputación de nombre para registros con NaN en \"name\"\n",
    "df_clean['name'] = df_clean['name'].fillna(df_clean['room_type'] + ' ' + df_clean['neighbourhood_name'])"
   ]
  },
  {
   "cell_type": "code",
   "execution_count": 17,
   "id": "eb744dd6",
   "metadata": {},
   "outputs": [],
   "source": [
    "# Imputación de descripción para registros con NaN en \"description\"\n",
    "df_clean['description'] = df_clean['description'].fillna(df_clean['name'])"
   ]
  },
  {
   "cell_type": "markdown",
   "id": "fc499a12-a501-45d4-8fc0-778ffae867c5",
   "metadata": {},
   "source": [
    "### Clean strings - remove characters not possible to encode"
   ]
  },
  {
   "cell_type": "code",
   "execution_count": 18,
   "id": "3b3b034d-b7a8-4667-b7d1-982debecf0ea",
   "metadata": {},
   "outputs": [],
   "source": [
    "def clean_string(input_string):\n",
    "    \n",
    "    # Check for NaN values\n",
    "    if pd.isna(input_string):\n",
    "        return input_string  # Return NaN as is\n",
    "        \n",
    "    s = \"\" if input_string is None else str(input_string)\n",
    "\n",
    "    # Normaliza Unicode (arregla acentos rotos y el carácter �)\n",
    "    s = unicodedata.normalize(\"NFKC\", s).replace(\"�\", \"\")\n",
    "\n",
    "    # Conserva letras latinas (con tildes), números, espacios, apóstrofes y guiones\n",
    "    s = re.sub(r\"[^0-9A-Za-zÀ-ÖØ-öø-ÿ' _-]\", \" \", s)  # updated to accept underscores - week 3 update\n",
    "\n",
    "    # Colapsa espacios y recorta extremos\n",
    "    s = re.sub(r\"\\s+\", \" \", s).strip()\n",
    "    \n",
    "    return s.title()\n",
    "\n",
    "\n",
    "\n",
    "def clean_string_with_capitalize(input_string):\n",
    "\n",
    "    # Check for NaN values\n",
    "    if pd.isna(input_string):\n",
    "        return input_string  # Return NaN as is\n",
    "        \n",
    "    s = \"\" if input_string is None else str(input_string)\n",
    "\n",
    "\n",
    "\n",
    "\n",
    "    # Normaliza Unicode (arregla acentos rotos y el carácter �)\n",
    "    s = unicodedata.normalize(\"NFKC\", s).replace(\"�\", \"\")\n",
    "\n",
    "    # Conserva letras latinas (con tildes), números, espacios, apóstrofes y guiones\n",
    "    s = re.sub(r\"[^0-9A-Za-zÀ-ÖØ-öø-ÿ' _-]\", \" \", s)  # updated to accept underscores - week 3 update\n",
    "\n",
    "    # Colapsa espacios y recorta extremos\n",
    "    s = re.sub(r\"\\s+\", \" \", s).strip()\n",
    "    \n",
    "    # Pone mayúscula la primera letra de CADA palabra (mejor para nombres propios)\n",
    "    s = s.capitalize()\n",
    "    \n",
    "    return s.title()\n",
    "\n",
    "\n",
    "# Aplicamos la función de limpieza \n",
    "cols_to_clean = [\"room_type\", \"description\"] # apply to more string columns, week 3 update\n",
    "for col in cols_to_clean:\n",
    "    if col in df_clean.columns:\n",
    "        df_clean[col] = df_clean[col].apply(clean_string)\n",
    "\n",
    "# Cleaning AND capitalize\n",
    "cols_to_clean = [\"neighbourhood_name\", \"neighbourhood_district\", \"country\", \"name\", \"city\"] \n",
    "for col in cols_to_clean:\n",
    "    if col in df_clean.columns:\n",
    "        df_clean[col] = df_clean[col].apply(clean_string_with_capitalize)"
   ]
  },
  {
   "cell_type": "markdown",
   "id": "e6c32a9e",
   "metadata": {},
   "source": [
    "### Standardize score scales - subgroup scores scales x/10 - global scores scales X/100"
   ]
  },
  {
   "cell_type": "code",
   "execution_count": 19,
   "id": "47158e09",
   "metadata": {},
   "outputs": [],
   "source": [
    "\"\"\"Formatear las variables de review\"\"\"\n",
    "    \n",
    "df_clean['review_scores_rating'] = df_clean['review_scores_rating'] / 10\n",
    "df_clean['review_scores_accuracy'] = df_clean['review_scores_accuracy'] / 10\n",
    "df_clean['review_scores_cleanliness'] = df_clean['review_scores_cleanliness'] / 10\n",
    "df_clean['review_scores_checkin'] = df_clean['review_scores_checkin'] / 10\n",
    "df_clean['review_scores_communication'] = df_clean['review_scores_communication'] / 10\n",
    "df_clean['review_scores_location'] = df_clean['review_scores_location'] / 10\n",
    "df_clean['review_scores_value'] = df_clean['review_scores_value'] / 10\n"
   ]
  },
  {
   "cell_type": "markdown",
   "id": "a51df148-e664-43be-9c57-58380360aa25",
   "metadata": {},
   "source": [
    "### Price Imputation"
   ]
  },
  {
   "cell_type": "code",
   "execution_count": 20,
   "id": "7d14f5b1",
   "metadata": {},
   "outputs": [],
   "source": [
    "def input_price(df_clean, price, room_type, accommodates, neighbourhood_name):\n",
    "    \"\"\"Imputación de precios\"\"\"\n",
    "    df = df_clean.copy()  # Copia del DataFrame original\n",
    "    avgs = df.groupby([room_type, accommodates, neighbourhood_name])[price].transform('mean')\n",
    "    df[price] = df[price].fillna(avgs)\n",
    "    return df\n",
    "\n",
    "# Aplicamos la función y guardamos el resultado en df_clean para conservar las transformaciones anteriores\n",
    "df_clean = input_price(df_clean, 'price', 'room_type', 'accommodates', 'neighbourhood_name')\n"
   ]
  },
  {
   "cell_type": "code",
   "execution_count": 21,
   "id": "4315d65a",
   "metadata": {},
   "outputs": [
    {
     "name": "stdout",
     "output_type": "stream",
     "text": [
      "Filas con 'price' nulo: 66\n"
     ]
    }
   ],
   "source": [
    "# Ver las filas donde 'price' es nulo luego de aplicar la formula de inputacion\n",
    "cols = [c for c in ['id', 'room_type', 'accommodates', 'neighbourhood_name', 'price'] if c in df_clean.columns]\n",
    "filas_nulas = df_clean[df_clean['price'].isna()][cols]\n",
    "print(f\"Filas con 'price' nulo: {len(filas_nulas)}\")\n",
    "#filas_nulas\n"
   ]
  },
  {
   "cell_type": "code",
   "execution_count": 22,
   "id": "800afe34",
   "metadata": {},
   "outputs": [],
   "source": [
    "# Segunda imputación para lo que no pudo completarse con la media grupal\n",
    "df_clean['price'] = df_clean['price'].fillna(df_clean['price'].mean())"
   ]
  },
  {
   "cell_type": "markdown",
   "id": "f562d1ff-238b-4e64-8253-e5d9ac33d8b2",
   "metadata": {},
   "source": [
    "### Review Scores Imputation - fill specific reviews with general rating if available"
   ]
  },
  {
   "cell_type": "code",
   "execution_count": 23,
   "id": "bae86016-aa93-4d4f-a9ee-a41b7e0420f2",
   "metadata": {},
   "outputs": [],
   "source": [
    "# Identify the review score columns (all columns except apartment_id and number_of_reviews)\n",
    "review_columns = ['review_scores_accuracy', 'review_scores_cleanliness', 'review_scores_checkin', \n",
    "                  'review_scores_communication', 'review_scores_location', 'review_scores_value']\n",
    "\n",
    "# For rows with positive number_of_reviews, fill NaN in review columns with review_scores_rating / 10\n",
    "mask = df_clean['number_of_reviews'] > 0\n",
    "\n",
    "for col in review_columns:\n",
    "    df_clean.loc[mask & df_clean[col].isna(), col] = df_clean.loc[mask & df_clean[col].isna(), 'review_scores_rating'] / 10"
   ]
  },
  {
   "cell_type": "markdown",
   "id": "b1bc5fa2-e5da-4e6d-97bb-b411d11b4152",
   "metadata": {},
   "source": [
    "### Clean Data Overview"
   ]
  },
  {
   "cell_type": "code",
   "execution_count": 24,
   "id": "af03423c-8d4d-46dc-8298-7ee5be4ab3df",
   "metadata": {},
   "outputs": [
    {
     "name": "stdout",
     "output_type": "stream",
     "text": [
      "<class 'pandas.core.frame.DataFrame'>\n",
      "Index: 9650 entries, 0 to 9999\n",
      "Data columns (total 35 columns):\n",
      " #   Column                       Non-Null Count  Dtype         \n",
      "---  ------                       --------------  -----         \n",
      " 0   apartment_id                 9650 non-null   int64         \n",
      " 1   name                         9650 non-null   object        \n",
      " 2   description                  9650 non-null   object        \n",
      " 3   host_id                      9650 non-null   int64         \n",
      " 4   neighbourhood_name           9650 non-null   object        \n",
      " 5   neighbourhood_district       5860 non-null   object        \n",
      " 6   room_type                    9650 non-null   object        \n",
      " 7   accommodates                 9650 non-null   int64         \n",
      " 8   bathrooms                    9576 non-null   Int64         \n",
      " 9   bedrooms                     9581 non-null   Int64         \n",
      " 10  beds                         9605 non-null   Int64         \n",
      " 11  amenities_list               9634 non-null   object        \n",
      " 12  price                        9650 non-null   float64       \n",
      " 13  minimum_nights               9650 non-null   int64         \n",
      " 14  maximum_nights               9650 non-null   int64         \n",
      " 15  has_availability             9116 non-null   object        \n",
      " 16  availability_30              9650 non-null   int64         \n",
      " 17  availability_60              9650 non-null   int64         \n",
      " 18  availability_90              9650 non-null   int64         \n",
      " 19  availability_365             9650 non-null   int64         \n",
      " 20  number_of_reviews            9650 non-null   int64         \n",
      " 21  first_review_date            7120 non-null   datetime64[ns]\n",
      " 22  last_review_date             7119 non-null   datetime64[ns]\n",
      " 23  review_scores_rating         7017 non-null   float64       \n",
      " 24  review_scores_accuracy       7017 non-null   float64       \n",
      " 25  review_scores_cleanliness    7017 non-null   float64       \n",
      " 26  review_scores_checkin        7017 non-null   float64       \n",
      " 27  review_scores_communication  7017 non-null   float64       \n",
      " 28  review_scores_location       7017 non-null   float64       \n",
      " 29  review_scores_value          7017 non-null   float64       \n",
      " 30  reviews_per_month            7120 non-null   float64       \n",
      " 31  country                      9650 non-null   object        \n",
      " 32  city                         9650 non-null   object        \n",
      " 33  insert_date                  9650 non-null   datetime64[ns]\n",
      " 34  is_instant_bookable          9650 non-null   bool          \n",
      "dtypes: Int64(3), bool(1), datetime64[ns](3), float64(9), int64(10), object(9)\n",
      "memory usage: 2.6+ MB\n"
     ]
    }
   ],
   "source": [
    "df_clean.info()"
   ]
  },
  {
   "cell_type": "markdown",
   "id": "c08c9acb-f32a-4738-85f3-7fcc29d0de3d",
   "metadata": {},
   "source": [
    "### Output clean data to CSV and PICKLE"
   ]
  },
  {
   "cell_type": "code",
   "execution_count": 25,
   "id": "cc66e6ed",
   "metadata": {},
   "outputs": [
    {
     "name": "stdout",
     "output_type": "stream",
     "text": [
      "Guardado en:\n",
      " - PKL: C:\\Users\\Cristina\\ProjecteData\\Equip_17\\week_03_2025-10-06\\data\\staySpain_cleaned.pkl\n",
      " - CSV: C:\\Users\\Cristina\\ProjecteData\\Equip_17\\week_03_2025-10-06\\data\\staySpain_cleaned.csv\n",
      "\n",
      "Verificación:\n",
      " - Shapes iguales: True\n",
      " - Columnas iguales: True\n",
      " - Tipos iguales: True\n"
     ]
    }
   ],
   "source": [
    "# 1) Carpeta de salida (crea /data si no existe)\n",
    "out_dir = Path(\"data\")\n",
    "out_dir.mkdir(parents=True, exist_ok=True)\n",
    "\n",
    "# 2) Rutas de salida\n",
    "pkl_path = out_dir / \"staySpain_cleaned.pkl\"\n",
    "csv_path = out_dir / \"staySpain_cleaned.csv\"\n",
    "\n",
    "# 3) Guardar el df LIMPIO\n",
    "df_clean.to_pickle(pkl_path)\n",
    "df_clean.to_csv(csv_path, index=False)\n",
    "\n",
    "# 4) Verificación inmediata: recargar y comparar\n",
    "df_check = pd.read_pickle(pkl_path)\n",
    "\n",
    "print(\"Guardado en:\")\n",
    "print(\" - PKL:\", pkl_path.resolve())\n",
    "print(\" - CSV:\", csv_path.resolve())\n",
    "print(\"\\nVerificación:\")\n",
    "print(\" - Shapes iguales:\", df_check.shape == df_clean.shape)\n",
    "print(\" - Columnas iguales:\", list(df_check.columns) == list(df_clean.columns))\n",
    "print(\" - Tipos iguales:\", (df_check.dtypes == df_clean.dtypes).all())\n",
    "\n"
   ]
  }
 ],
 "metadata": {
  "kernelspec": {
   "display_name": "Python 3",
   "language": "python",
   "name": "python3"
  },
  "language_info": {
   "codemirror_mode": {
    "name": "ipython",
    "version": 3
   },
   "file_extension": ".py",
   "mimetype": "text/x-python",
   "name": "python",
   "nbconvert_exporter": "python",
   "pygments_lexer": "ipython3",
   "version": "3.12.4"
  }
 },
 "nbformat": 4,
 "nbformat_minor": 5
}
