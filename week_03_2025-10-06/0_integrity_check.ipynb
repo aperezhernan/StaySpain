{
 "cells": [
  {
   "cell_type": "code",
   "execution_count": 1,
   "id": "10dfc259-95fe-482b-8955-3bece2742a51",
   "metadata": {},
   "outputs": [],
   "source": [
    "import pandas as pd"
   ]
  },
  {
   "cell_type": "markdown",
   "id": "3487e3c4-b814-4740-81a1-49d79967377b",
   "metadata": {},
   "source": [
    "## CARGA de dataframes desde CSV"
   ]
  },
  {
   "cell_type": "code",
   "execution_count": 2,
   "id": "86ed83d0-3110-4109-8255-34702f6acf9a",
   "metadata": {},
   "outputs": [],
   "source": [
    "df = pd.read_csv(r\"data/staySpain_raw.csv\")\n",
    "df_previo = pd.read_csv(r\"../week_02_2025-09-22/data/staySpain_raw.csv\")"
   ]
  },
  {
   "cell_type": "markdown",
   "id": "69fa64e5-c290-48d4-a7e4-a9e3a79d3182",
   "metadata": {},
   "source": [
    "## Dataset ACTUAL"
   ]
  },
  {
   "cell_type": "markdown",
   "id": "8da0f20b-2283-480c-9649-2972dca936fd",
   "metadata": {},
   "source": [
    "### Total registros"
   ]
  },
  {
   "cell_type": "code",
   "execution_count": 3,
   "id": "46c48817-e1b9-4431-92bb-fd8425f17704",
   "metadata": {},
   "outputs": [
    {
     "name": "stdout",
     "output_type": "stream",
     "text": [
      "10000\n"
     ]
    }
   ],
   "source": [
    "total_rows = df.shape[0]\n",
    "print(total_rows)"
   ]
  },
  {
   "cell_type": "markdown",
   "id": "de7d7b0c-29b0-4c80-9d93-2e7aff16df65",
   "metadata": {},
   "source": [
    "### Total apartment_id únicas"
   ]
  },
  {
   "cell_type": "code",
   "execution_count": 4,
   "id": "450b171e-6076-4a59-b3bf-1fea99b8df2a",
   "metadata": {},
   "outputs": [
    {
     "name": "stdout",
     "output_type": "stream",
     "text": [
      "9650\n"
     ]
    }
   ],
   "source": [
    "unique_count = df['apartment_id'].nunique()\n",
    "print(unique_count)"
   ]
  },
  {
   "cell_type": "markdown",
   "id": "3dff48ca-500c-413b-820b-535c16fb5e19",
   "metadata": {},
   "source": [
    "### apartment_id con más de una entrada"
   ]
  },
  {
   "cell_type": "code",
   "execution_count": 5,
   "id": "f3204046-810e-4a8e-a2af-eb5cf8098f3f",
   "metadata": {},
   "outputs": [
    {
     "name": "stdout",
     "output_type": "stream",
     "text": [
      "Number of unique apartment_ids that have duplicates: 342\n"
     ]
    }
   ],
   "source": [
    "# Count occurrences of each apartment_id\n",
    "apartment_counts = df['apartment_id'].value_counts()\n",
    "\n",
    "# Filter to get only apartment_ids that have duplicates\n",
    "duplicated_apartments = apartment_counts[apartment_counts > 1]\n",
    "\n",
    "# Count the number of unique apartment_ids that have duplicates\n",
    "unique_duplicates_count = duplicated_apartments.count()\n",
    "\n",
    "print(f'Number of unique apartment_ids that have duplicates: {unique_duplicates_count}')"
   ]
  },
  {
   "cell_type": "markdown",
   "id": "32909683-88a4-4a76-be7e-83c085131566",
   "metadata": {},
   "source": [
    "### apartment_id redundantes"
   ]
  },
  {
   "cell_type": "code",
   "execution_count": 6,
   "id": "02e35125-a95f-4ab0-bca7-f897ea3f73c5",
   "metadata": {},
   "outputs": [
    {
     "name": "stdout",
     "output_type": "stream",
     "text": [
      "Total number of duplicated apartment_ids (keep=\"first\"): 350\n"
     ]
    }
   ],
   "source": [
    "# Count duplicates with keep='first' (only counts duplicates after the first occurrence)\n",
    "total_duplicates_after_first = df['apartment_id'].duplicated(keep='first').sum()\n",
    "\n",
    "print(f'Total number of duplicated apartment_ids (keep=\"first\"): {total_duplicates_after_first}')"
   ]
  },
  {
   "cell_type": "markdown",
   "id": "a283e780-1841-430e-a223-9e4b709b7fd9",
   "metadata": {},
   "source": [
    "### número de registros duplicados"
   ]
  },
  {
   "cell_type": "code",
   "execution_count": 7,
   "id": "07b68200-3e2c-49a3-83e6-91cdec2f4609",
   "metadata": {},
   "outputs": [
    {
     "name": "stdout",
     "output_type": "stream",
     "text": [
      "0\n"
     ]
    }
   ],
   "source": [
    "# Check for duplicate rows\n",
    "duplicate_count = df.duplicated().sum() \n",
    "print(duplicate_count)"
   ]
  },
  {
   "cell_type": "markdown",
   "id": "ce25b9d1-fc81-4a23-b03c-6318f5884d69",
   "metadata": {},
   "source": [
    "## Dataset PREVIO"
   ]
  },
  {
   "cell_type": "markdown",
   "id": "e081149e-af3c-4769-a458-8ece4bfc2f85",
   "metadata": {},
   "source": [
    "### Total registros"
   ]
  },
  {
   "cell_type": "code",
   "execution_count": 8,
   "id": "6f470eb9-b360-4abc-b75e-fbe21f725030",
   "metadata": {},
   "outputs": [
    {
     "name": "stdout",
     "output_type": "stream",
     "text": [
      "8000\n"
     ]
    }
   ],
   "source": [
    "total_rows_prev = df_previo.shape[0]\n",
    "print(total_rows_prev)"
   ]
  },
  {
   "cell_type": "markdown",
   "id": "0728dd82-46d2-46bf-89ba-d629cd0aed04",
   "metadata": {},
   "source": [
    "## Cambio INTERSEMANAL"
   ]
  },
  {
   "cell_type": "markdown",
   "id": "4786e934-72db-49d6-b966-b398971b6464",
   "metadata": {},
   "source": [
    "### apartment_id nuevos respecto de la semana anterior"
   ]
  },
  {
   "cell_type": "code",
   "execution_count": 9,
   "id": "16f819e2-64c9-479d-b0fb-de3d1b6dc4c2",
   "metadata": {},
   "outputs": [
    {
     "name": "stdout",
     "output_type": "stream",
     "text": [
      "1957\n"
     ]
    }
   ],
   "source": [
    "prev_ids = set(df_previo['apartment_id']) # SETs are used to ensure apartment_id(s) are unique\n",
    "new_ids = set(df['apartment_id'])\n",
    "\n",
    "new_unique_ids = new_ids - prev_ids\n",
    "new_ids_count = len(new_unique_ids)\n",
    "\n",
    "print(new_ids_count)"
   ]
  },
  {
   "cell_type": "markdown",
   "id": "fb1ce790-697a-4fd6-8716-e46a64071616",
   "metadata": {},
   "source": [
    "### Registros nuevos"
   ]
  },
  {
   "cell_type": "code",
   "execution_count": 10,
   "id": "186db6d6-11ef-419d-b657-4be120568f04",
   "metadata": {},
   "outputs": [
    {
     "name": "stdout",
     "output_type": "stream",
     "text": [
      "2000\n"
     ]
    }
   ],
   "source": [
    "new_rows = total_rows - total_rows_prev\n",
    "print(new_rows)"
   ]
  },
  {
   "cell_type": "markdown",
   "id": "d11f2b25-cc31-40a8-a053-2d993f8c9261",
   "metadata": {},
   "source": [
    "## RESUMEN"
   ]
  },
  {
   "cell_type": "code",
   "execution_count": 11,
   "id": "248e207c-3f38-4ef6-8d38-61f4ffd8dd32",
   "metadata": {},
   "outputs": [
    {
     "name": "stdout",
     "output_type": "stream",
     "text": [
      "\n",
      "DATA SET ACTUAL\n",
      "---------------\n",
      "Número total de REGISTROS: 10000 filas.\n",
      "Número total de ALOJAMIENTOS únicos: 9650 apartment_id(s).\n",
      "REGISTROS duplicados exactos: 0\n",
      "ALOJAMIENTOS con duplicados: 342\n",
      "IDs extra: 350 registros redundantes.\n",
      "\n",
      "\n",
      "CAMBIOS\n",
      "-------\n",
      "2000 REGISTROS NUEVOS resecto a la semana anterior.\n",
      "1957 ALOJAMIENTOS NUEVOS respecto de la semana anterior.\n",
      "\n"
     ]
    }
   ],
   "source": [
    "print(f'''\n",
    "DATA SET ACTUAL\n",
    "---------------\n",
    "Número total de REGISTROS: {total_rows} filas.\n",
    "Número total de ALOJAMIENTOS únicos: {unique_count} apartment_id(s).\n",
    "REGISTROS duplicados exactos: {duplicate_count}\n",
    "ALOJAMIENTOS con duplicados: {unique_duplicates_count}\n",
    "IDs extra: {total_duplicates_after_first} registros redundantes.\n",
    "\n",
    "\n",
    "CAMBIOS\n",
    "-------\n",
    "{new_rows} REGISTROS NUEVOS resecto a la semana anterior.\n",
    "{new_ids_count} ALOJAMIENTOS NUEVOS respecto de la semana anterior.\n",
    "''')"
   ]
  }
 ],
 "metadata": {
  "kernelspec": {
   "display_name": "Python [conda env:base]",
   "language": "python",
   "name": "conda-base-py"
  },
  "language_info": {
   "codemirror_mode": {
    "name": "ipython",
    "version": 3
   },
   "file_extension": ".py",
   "mimetype": "text/x-python",
   "name": "python",
   "nbconvert_exporter": "python",
   "pygments_lexer": "ipython3",
   "version": "3.12.7"
  }
 },
 "nbformat": 4,
 "nbformat_minor": 5
}
