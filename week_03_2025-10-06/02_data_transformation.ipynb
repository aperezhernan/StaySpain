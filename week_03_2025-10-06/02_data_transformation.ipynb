{
 "cells": [
  {
   "cell_type": "markdown",
   "id": "fb92b88a",
   "metadata": {},
   "source": [
    "## DATA TRANSFORMATION"
   ]
  },
  {
   "cell_type": "markdown",
   "id": "a024fa48-a43c-40f6-8709-b097de01f9d6",
   "metadata": {},
   "source": [
    "**2025-10-07**"
   ]
  },
  {
   "cell_type": "code",
   "execution_count": 1,
   "id": "ea6cb574",
   "metadata": {},
   "outputs": [],
   "source": [
    "import pandas as pd\n",
    "import numpy as np\n",
    "import pickle\n",
    "from pathlib import Path"
   ]
  },
  {
   "cell_type": "markdown",
   "id": "18f8f71a",
   "metadata": {},
   "source": [
    "Importamos el CSV"
   ]
  },
  {
   "cell_type": "code",
   "execution_count": 2,
   "id": "fe409bbe",
   "metadata": {},
   "outputs": [],
   "source": [
    "input_path = Path(\"data\") / \"staySpain_cleaned.pkl\"\n",
    "df = pd.read_pickle(input_path)"
   ]
  },
  {
   "cell_type": "markdown",
   "id": "c47fa347",
   "metadata": {},
   "source": [
    "Creamos una copia del DF para hacer los cambios"
   ]
  },
  {
   "cell_type": "code",
   "execution_count": 3,
   "id": "686a9c9e",
   "metadata": {},
   "outputs": [],
   "source": [
    "df_transf = df.copy()"
   ]
  },
  {
   "cell_type": "markdown",
   "id": "61dd46a6-2c99-4a64-8c2f-d6dc939c9079",
   "metadata": {},
   "source": [
    "### Price per person"
   ]
  },
  {
   "cell_type": "code",
   "execution_count": 4,
   "id": "035adaf7",
   "metadata": {},
   "outputs": [],
   "source": [
    "posicion = 13\n",
    "df_transf.insert(posicion, 'pricexperson', df_transf['price'] / df_transf['accommodates'])"
   ]
  },
  {
   "cell_type": "markdown",
   "id": "13b58a4a-043c-458e-85fe-bef55c77b31f",
   "metadata": {},
   "source": [
    "### Ocupation and Ocupation%"
   ]
  },
  {
   "cell_type": "markdown",
   "id": "8c46cc22",
   "metadata": {},
   "source": [
    "Transformación de columnas availabilty a positivo + porcentaje"
   ]
  },
  {
   "cell_type": "code",
   "execution_count": 5,
   "id": "1cab3752",
   "metadata": {},
   "outputs": [],
   "source": [
    "posicion = 18\n",
    "df_transf.insert(posicion, 'ocupation30', 30 - df_transf['availability_30'])"
   ]
  },
  {
   "cell_type": "code",
   "execution_count": 6,
   "id": "037c0549",
   "metadata": {},
   "outputs": [],
   "source": [
    "posicion = 19\n",
    "df_transf.insert(posicion, 'ocup%30', (df_transf['ocupation30'] / 30) * 100)"
   ]
  },
  {
   "cell_type": "markdown",
   "id": "50a62a20",
   "metadata": {},
   "source": [
    "Vamos a trabajar con la columna de disponibilidad mensual ya que el KPI se evalúa mensualmente, por lo que aunque estén creadas las columnas de porcentaje de tasa de ocupación según las diferentes variables temporales, no las vamos a utilizar."
   ]
  },
  {
   "cell_type": "code",
   "execution_count": 7,
   "id": "17caea38",
   "metadata": {},
   "outputs": [],
   "source": [
    "posicion = 21\n",
    "df_transf.insert(posicion, 'ocupation60', 60 - df_transf['availability_60'])"
   ]
  },
  {
   "cell_type": "code",
   "execution_count": 8,
   "id": "bff05921",
   "metadata": {},
   "outputs": [],
   "source": [
    "#df['ocup60%'] = (df['ocupation60'] / 60) * 100"
   ]
  },
  {
   "cell_type": "code",
   "execution_count": 9,
   "id": "2746066c",
   "metadata": {},
   "outputs": [],
   "source": [
    "posicion = 23  # Cambia según tu necesidad\n",
    "df_transf.insert(posicion, 'ocupation90', 90 - df_transf['availability_90'])"
   ]
  },
  {
   "cell_type": "code",
   "execution_count": 10,
   "id": "92d62cde",
   "metadata": {},
   "outputs": [],
   "source": [
    "#df['ocup90%'] = (df['ocupation90'] / 90) * 100"
   ]
  },
  {
   "cell_type": "code",
   "execution_count": 11,
   "id": "c7d23af8",
   "metadata": {},
   "outputs": [],
   "source": [
    "posicion = 25  # Cambia según tu necesidad\n",
    "df_transf.insert(posicion, 'ocupation365', 365 - df_transf['availability_365'])"
   ]
  },
  {
   "cell_type": "code",
   "execution_count": 12,
   "id": "f51c23af",
   "metadata": {},
   "outputs": [],
   "source": [
    "#df['ocup365%'] = (df['ocupation365'] / 365) * 100"
   ]
  },
  {
   "cell_type": "markdown",
   "id": "fb2abc1d-3a85-4ef2-ae63-008695c62794",
   "metadata": {},
   "source": [
    "### Satisfacción general"
   ]
  },
  {
   "cell_type": "markdown",
   "id": "3ba1c2b8",
   "metadata": {},
   "source": [
    "Creación de columna índice de satisfacción general"
   ]
  },
  {
   "cell_type": "code",
   "execution_count": 13,
   "id": "1aebc24a",
   "metadata": {},
   "outputs": [],
   "source": [
    "general_satisf = {\n",
    "    'accuracy':      df_transf.review_scores_accuracy.mean(),\n",
    "    'cleanliness':   df_transf.review_scores_cleanliness.mean(),\n",
    "    'checkin':       df_transf.review_scores_checkin.mean(),\n",
    "    'communication': df_transf.review_scores_communication.mean(),\n",
    "    'location' :     df_transf.review_scores_location.mean()}\n",
    "\n",
    "sorted_avg_scores = sorted(general_satisf.items(), key=lambda item: item[1], reverse=True)\n",
    "\n",
    "df_transf['general_satisf'] = df_transf[\n",
    "    ['review_scores_accuracy', 'review_scores_cleanliness', \n",
    "     'review_scores_checkin', 'review_scores_communication', \n",
    "     'review_scores_location']\n",
    "].mean(axis=1)\n",
    "\n",
    "posicion = 36\n",
    "col_general_satisf = df_transf.pop('general_satisf')\n",
    "df_transf.insert(posicion, 'general_satisf', col_general_satisf)"
   ]
  },
  {
   "cell_type": "markdown",
   "id": "011cd6b0-223e-44a3-b112-5dc691b58f93",
   "metadata": {},
   "source": [
    "### Amenities_score - optional: score for each amenities group"
   ]
  },
  {
   "cell_type": "markdown",
   "id": "34d02055-38a2-40f1-938c-3add84af953f",
   "metadata": {},
   "source": [
    "Creación de la columna amenities score"
   ]
  },
  {
   "cell_type": "code",
   "execution_count": 14,
   "id": "a24efc1d-2ccf-4216-91ec-6274e7456a47",
   "metadata": {},
   "outputs": [],
   "source": [
    "# Define amenities for each category/group\n",
    "# Groups are made in relation to the aspects of an accomodation customers find more important based on sector research\n",
    "amenities_ac = ['heating', 'heated floors', 'air conditioning']\n",
    "amenities_outdoor = ['balcony', 'terrace', 'backyard', 'patio', 'outdoor dining area', 'outdoor seating']\n",
    "amenities_parking = ['parking']\n",
    "amenities_view = ['beach view', 'beachfront', 'waterfront', 'lake', 'mountain view']\n",
    "amenities_internet = ['ethernet', 'wifi', 'internet']\n",
    "amenities_work = ['workspace', 'mbps', 'office']\n",
    "amenities_kitchen = ['dishwasher', 'refrigerator', 'freezer', 'washer', 'kitchen', 'stove', 'oven', 'toaster', 'full kitchen', 'microwave', 'kettle']\n",
    "amenities_bathroom = ['essentials', 'tub', 'shower', 'bathtub', 'hair dryer']\n",
    "amenities_sport = ['gym', 'pool']\n",
    "amenities_disabled = ['wheelchair', 'hoist', 'single level', 'wide hallways', 'wide doorway', 'grab bars', 'shower chair', 'wide clearance', 'elevator', 'accessible', 'bath chair']\n",
    "\n",
    "\n",
    "# Some groups have multiple small items why other are some but big items\n",
    "# i.e. lots of appliances to make a kitchen, but not so many to make a parking\n",
    "# Define scores for each amenities list based on the amount and importance of items\n",
    "amenities_scores = {\n",
    "    'amenities_ac': (amenities_ac, 5.0), \n",
    "    'amenities_outdoor': (amenities_outdoor, 5.0),   \n",
    "    'amenities_parking': (amenities_parking, 10.0),   \n",
    "    'amenities_view': (amenities_view, 10.0),\n",
    "    'amenities_internet': (amenities_internet, 10.0),\n",
    "    'amenities_work': (amenities_work, 10.0),\n",
    "    'amenities_kitchen': (amenities_kitchen, 2.0),\n",
    "    'amenities_bathroom': (amenities_bathroom, 3.0),\n",
    "    'amenities_sport': (amenities_sport, 10.0),\n",
    "    'amenities_disabled': (amenities_disabled, 2.0)\n",
    "}\n",
    "\n",
    "\n",
    "# Function to count occurrences with type checking and lowercase conversion\n",
    "def count_amenities(amenities_string, amenities, score):\n",
    "    if isinstance(amenities_string, str):  # Check if the cell is a string\n",
    "        amenities_string = amenities_string.lower()  # Convert to lowercase\n",
    "        total_score = sum(score for amenity in amenities if amenity in amenities_string)\n",
    "        return min(total_score, 10)  # Cap the score at 10\n",
    "    else:\n",
    "        return np.nan  # Return NaN for non-string values\n",
    "\n",
    "\n",
    "# Iterate through each amenities list and create new columns with score for each one\n",
    "for key, (amenities, score) in amenities_scores.items():\n",
    "    df_transf[f'{key}_score'] = df_transf['amenities_list'].apply(lambda x: count_amenities(x, amenities, score))\n",
    "\n",
    "\n",
    "# The following columns are related to amenities score\n",
    "amenities_score_columns = [\n",
    "    'amenities_ac_score', \n",
    "    'amenities_outdoor_score',   \n",
    "    'amenities_parking_score',   \n",
    "    'amenities_view_score',\n",
    "    'amenities_internet_score',\n",
    "    'amenities_work_score',\n",
    "    'amenities_kitchen_score',\n",
    "    'amenities_bathroom_score',\n",
    "    'amenities_sport_score',\n",
    "    'amenities_disabled_score'\n",
    "]\n",
    "\n",
    "\n",
    "# Based on the previous lists, a total score of amenities is calculated\n",
    "df_transf['amenities_score'] = df_transf[amenities_score_columns].sum(axis=1)\n",
    "\n",
    "# To keep the dataframe simple, detailed group scores are removed\n",
    "df_transf = df_transf.drop(columns=amenities_score_columns)"
   ]
  },
  {
   "cell_type": "markdown",
   "id": "ec7022ee-62d9-431e-97bd-aa6ef3ac810a",
   "metadata": {},
   "source": [
    "### Zona"
   ]
  },
  {
   "cell_type": "markdown",
   "id": "e6ed7bad-94c5-4587-bdf0-05771f9a4f32",
   "metadata": {},
   "source": [
    "La columna zona se calcula a partir de las columnas \"city\", \"neighbourhood_district\", \"neighbourhood_name\".\n",
    "\n",
    "No existe un criterio unificado en el dataset original, por lo que se busca resumirlas en el mayor nivel de granularidad disponible.\n",
    "\n",
    "Separadas con una barra baja, existen las siguientes opciones:\n",
    "- Ciudad_Distrito_Barrio\n",
    "- Ciudad_Barrio (Para ciudades que no indican distritos)\n",
    "- Ciudad_Población"
   ]
  },
  {
   "cell_type": "code",
   "execution_count": 15,
   "id": "66d9664c-148c-4a54-ac91-b8c6aa6b133b",
   "metadata": {},
   "outputs": [],
   "source": [
    "# Concatenate with fillna\n",
    "df_transf['zona'] = (\n",
    "    df_transf['city'].fillna('') + '_' + \n",
    "    df_transf['neighbourhood_district'].fillna('') + '_' + \n",
    "    df_transf['neighbourhood_name'].fillna('')\n",
    ")\n",
    "\n",
    "# Then clean up consecutive underscores and trailing/leading underscores\n",
    "df_transf['zona'] = df_transf['zona'].str.replace(r'_+', '_', regex=True).str.strip('_')"
   ]
  },
  {
   "cell_type": "markdown",
   "id": "4fe2e39c-2615-487f-8593-bf61878c7f8f",
   "metadata": {},
   "source": [
    "### Data transfomed overview"
   ]
  },
  {
   "cell_type": "code",
   "execution_count": 16,
   "id": "24421aa8",
   "metadata": {},
   "outputs": [
    {
     "name": "stdout",
     "output_type": "stream",
     "text": [
      "<class 'pandas.core.frame.DataFrame'>\n",
      "Index: 9650 entries, 0 to 9999\n",
      "Data columns (total 44 columns):\n",
      " #   Column                       Non-Null Count  Dtype         \n",
      "---  ------                       --------------  -----         \n",
      " 0   apartment_id                 9650 non-null   int64         \n",
      " 1   name                         9650 non-null   object        \n",
      " 2   description                  9650 non-null   object        \n",
      " 3   host_id                      9650 non-null   int64         \n",
      " 4   neighbourhood_name           9650 non-null   object        \n",
      " 5   neighbourhood_district       5860 non-null   object        \n",
      " 6   room_type                    9650 non-null   object        \n",
      " 7   accommodates                 9650 non-null   int64         \n",
      " 8   bathrooms                    9576 non-null   Int64         \n",
      " 9   bedrooms                     9581 non-null   Int64         \n",
      " 10  beds                         9605 non-null   Int64         \n",
      " 11  amenities_list               9634 non-null   object        \n",
      " 12  price                        9650 non-null   float64       \n",
      " 13  pricexperson                 9650 non-null   float64       \n",
      " 14  minimum_nights               9650 non-null   int64         \n",
      " 15  maximum_nights               9650 non-null   int64         \n",
      " 16  has_availability             9116 non-null   object        \n",
      " 17  availability_30              9650 non-null   int64         \n",
      " 18  ocupation30                  9650 non-null   int64         \n",
      " 19  ocup%30                      9650 non-null   float64       \n",
      " 20  availability_60              9650 non-null   int64         \n",
      " 21  ocupation60                  9650 non-null   int64         \n",
      " 22  availability_90              9650 non-null   int64         \n",
      " 23  ocupation90                  9650 non-null   int64         \n",
      " 24  availability_365             9650 non-null   int64         \n",
      " 25  ocupation365                 9650 non-null   int64         \n",
      " 26  number_of_reviews            9650 non-null   int64         \n",
      " 27  first_review_date            7120 non-null   datetime64[ns]\n",
      " 28  last_review_date             7119 non-null   datetime64[ns]\n",
      " 29  review_scores_rating         7017 non-null   float64       \n",
      " 30  review_scores_accuracy       7017 non-null   float64       \n",
      " 31  review_scores_cleanliness    7017 non-null   float64       \n",
      " 32  review_scores_checkin        7017 non-null   float64       \n",
      " 33  review_scores_communication  7017 non-null   float64       \n",
      " 34  review_scores_location       7017 non-null   float64       \n",
      " 35  review_scores_value          7017 non-null   float64       \n",
      " 36  general_satisf               7017 non-null   float64       \n",
      " 37  reviews_per_month            7120 non-null   float64       \n",
      " 38  country                      9650 non-null   object        \n",
      " 39  city                         9650 non-null   object        \n",
      " 40  insert_date                  9650 non-null   datetime64[ns]\n",
      " 41  is_instant_bookable          9650 non-null   bool          \n",
      " 42  amenities_score              9650 non-null   float64       \n",
      " 43  zona                         9650 non-null   object        \n",
      "dtypes: Int64(3), bool(1), datetime64[ns](3), float64(13), int64(14), object(10)\n",
      "memory usage: 3.3+ MB\n"
     ]
    }
   ],
   "source": [
    "df_transf.info()"
   ]
  },
  {
   "cell_type": "code",
   "execution_count": 17,
   "id": "5e61d998-16b7-4d57-b715-c66a77c6ab8a",
   "metadata": {},
   "outputs": [
    {
     "data": {
      "application/vnd.microsoft.datawrangler.viewer.v0+json": {
       "columns": [
        {
         "name": "index",
         "rawType": "int64",
         "type": "integer"
        },
        {
         "name": "apartment_id",
         "rawType": "int64",
         "type": "integer"
        },
        {
         "name": "name",
         "rawType": "object",
         "type": "string"
        },
        {
         "name": "description",
         "rawType": "object",
         "type": "string"
        },
        {
         "name": "host_id",
         "rawType": "int64",
         "type": "integer"
        },
        {
         "name": "neighbourhood_name",
         "rawType": "object",
         "type": "string"
        },
        {
         "name": "neighbourhood_district",
         "rawType": "object",
         "type": "unknown"
        },
        {
         "name": "room_type",
         "rawType": "object",
         "type": "string"
        },
        {
         "name": "accommodates",
         "rawType": "int64",
         "type": "integer"
        },
        {
         "name": "bathrooms",
         "rawType": "Int64",
         "type": "integer"
        },
        {
         "name": "bedrooms",
         "rawType": "Int64",
         "type": "integer"
        },
        {
         "name": "beds",
         "rawType": "Int64",
         "type": "integer"
        },
        {
         "name": "amenities_list",
         "rawType": "object",
         "type": "string"
        },
        {
         "name": "price",
         "rawType": "float64",
         "type": "float"
        },
        {
         "name": "pricexperson",
         "rawType": "float64",
         "type": "float"
        },
        {
         "name": "minimum_nights",
         "rawType": "int64",
         "type": "integer"
        },
        {
         "name": "maximum_nights",
         "rawType": "int64",
         "type": "integer"
        },
        {
         "name": "has_availability",
         "rawType": "object",
         "type": "unknown"
        },
        {
         "name": "availability_30",
         "rawType": "int64",
         "type": "integer"
        },
        {
         "name": "ocupation30",
         "rawType": "int64",
         "type": "integer"
        },
        {
         "name": "ocup%30",
         "rawType": "float64",
         "type": "float"
        },
        {
         "name": "availability_60",
         "rawType": "int64",
         "type": "integer"
        },
        {
         "name": "ocupation60",
         "rawType": "int64",
         "type": "integer"
        },
        {
         "name": "availability_90",
         "rawType": "int64",
         "type": "integer"
        },
        {
         "name": "ocupation90",
         "rawType": "int64",
         "type": "integer"
        },
        {
         "name": "availability_365",
         "rawType": "int64",
         "type": "integer"
        },
        {
         "name": "ocupation365",
         "rawType": "int64",
         "type": "integer"
        },
        {
         "name": "number_of_reviews",
         "rawType": "int64",
         "type": "integer"
        },
        {
         "name": "first_review_date",
         "rawType": "datetime64[ns]",
         "type": "datetime"
        },
        {
         "name": "last_review_date",
         "rawType": "datetime64[ns]",
         "type": "datetime"
        },
        {
         "name": "review_scores_rating",
         "rawType": "float64",
         "type": "float"
        },
        {
         "name": "review_scores_accuracy",
         "rawType": "float64",
         "type": "float"
        },
        {
         "name": "review_scores_cleanliness",
         "rawType": "float64",
         "type": "float"
        },
        {
         "name": "review_scores_checkin",
         "rawType": "float64",
         "type": "float"
        },
        {
         "name": "review_scores_communication",
         "rawType": "float64",
         "type": "float"
        },
        {
         "name": "review_scores_location",
         "rawType": "float64",
         "type": "float"
        },
        {
         "name": "review_scores_value",
         "rawType": "float64",
         "type": "float"
        },
        {
         "name": "general_satisf",
         "rawType": "float64",
         "type": "float"
        },
        {
         "name": "reviews_per_month",
         "rawType": "float64",
         "type": "float"
        },
        {
         "name": "country",
         "rawType": "object",
         "type": "string"
        },
        {
         "name": "city",
         "rawType": "object",
         "type": "string"
        },
        {
         "name": "insert_date",
         "rawType": "datetime64[ns]",
         "type": "datetime"
        },
        {
         "name": "is_instant_bookable",
         "rawType": "bool",
         "type": "boolean"
        },
        {
         "name": "amenities_score",
         "rawType": "float64",
         "type": "float"
        },
        {
         "name": "zona",
         "rawType": "object",
         "type": "string"
        }
       ],
       "ref": "8753173b-adeb-4cf1-a25d-d9b8639088d5",
       "rows": [
        [
         "0",
         "11964",
         "A Room With A View",
         "Private Bedroom In Our Attic Apartment Right In The Heart Of The Pedestrian Downtown Area Outstanding Views From Our Large Terrace And Modern Fully Renovated Interior Double Bed In A Fully Renovated Downtown Attic We Live In A 1881 Building In The Heart Of Town One Minute Away From The Picasso Museum Calle Larios And The Cathedral It Is A 100 Square Meter Apartment And A 45 Square Meter Terrace With Outstanding Views Of The Cathedral And The Whole Downtown Area And Churches Plus An Outdoor Barbecue The Apartment Underwent An 8 Month Renovation And Is In Pristine Condition With Italian Appliances And Light Fixtures Murano Glass Tiles And Marble Floors The Building Has An Elevator Up To The 4Ht Floor And We Live On The 5Th All Of Downtown Mlaga Is Pedestrian So You Will Be Guaranteed No Traffic Noise And Pleasant Walks There Are Hundreds Of Restaurants And Shops In The Neighborhood As Well Impossible To Run Out Of Things To Do Common Areas As Often As Our Guests Want",
         "45553",
         "Centro",
         null,
         "Private Room",
         "2",
         "2",
         "1",
         "1",
         "TV,Internet,Wifi,Air conditioning,Elevator,Buzzer/wireless intercom,Heating,Washer,Smoke detector,Carbon monoxide detector,Essentials,Shampoo,24-hour check-in,Hangers,Hair dryer,Iron,Laptop friendly workspace,translation missing: en.hosting_amenity_49,translation missing: en.hosting_amenity_50",
         "400.0",
         "200.0",
         "3",
         "365",
         "True",
         "7",
         "23",
         "76.66666666666667",
         "20",
         "40",
         "40",
         "50",
         "130",
         "235",
         "78",
         "2010-01-02 00:00:00",
         "2017-09-05 00:00:00",
         "97.0",
         "10.0",
         "10.0",
         "10.0",
         "10.0",
         "10.0",
         "10.0",
         "10.0",
         "75.0",
         "Spain",
         "Malaga",
         "2018-07-31 00:00:00",
         "False",
         "40.0",
         "Malaga_Centro"
        ],
        [
         "1",
         "21853",
         "Bright And Airy Room",
         "We Have A Quiet And Sunny Room With A Good View In Our 3 Bedroom Flat In A Welcoming Atmosphere Our Clean And Respectful Flatshare Is Located In A Leafy Neighbourhood With All Facilities Shops Library Cafs And Bars A Swimming Pools Gyms And Fantastic Parks Well Connected By Metro And Bus With The Centre 15 Minutes For Walks We Are Also A 20 Min Stroll Away From The Riverside I Am Living In A Nice Flat Near The Centre Of Madrid 15 Minutes By Bus We Are Relaxed Clean And Independent The Flat Is Located In A Leafy Neighbourhood With Plenty Of Facilities Little Shops Supermarkets Public Library Swimming Pools Covered And Summer Ones Tennis Courts And Free Parking Outside The Flat It Is Well Connected By Public Transport Various Bus And Metro Lines The Room Is Sunny And Well Presented There Are Two Bathrooms One Of Which You Would Share With A Guest It Has Triple Glazing And We Provide Fresh Bedlinen And Towels So That Packing Is Lighter For Our Guests We",
         "83531",
         "Crmenes",
         "Latina",
         "Private Room",
         "1",
         "1",
         "1",
         "1",
         "TV,Internet,Wifi,Air conditioning,Kitchen,Free parking on premises,Doorman,Elevator,Heating,Washer,First aid kit,Fire extinguisher,Essentials,Shampoo,Lock on bedroom door,Hangers,Hair dryer,Iron,Laptop friendly workspace,translation missing: en.hosting_amenity_49,translation missing: en.hosting_amenity_50,Hot water,Bed linens,Extra pillows and blankets,Pocket wifi,Microwave,Coffee maker,Refrigerator,Dishes and silverware,Cooking basics,Oven",
         "170.0",
         "170.0",
         "4",
         "40",
         "True",
         "0",
         "30",
         "100.0",
         "0",
         "60",
         "0",
         "90",
         "162",
         "203",
         "33",
         "2014-10-10 00:00:00",
         "2018-07-15 00:00:00",
         "92.0",
         "9.0",
         "9.0",
         "10.0",
         "10.0",
         "8.0",
         "9.0",
         "9.2",
         "52.0",
         "Spain",
         "Madrid",
         "2020-01-10 00:00:00",
         "False",
         "58.0",
         "Madrid_Latina_Crmenes"
        ],
        [
         "2",
         "32347",
         "Explore Cultural Sights From A Family-Friendly Apartment",
         "Open French Doors And Step Onto A Plant-Filled Terrace That Feels Like An Oasis Of Calm In The Center Of The City White-On-White Decor An Ultramodern Kitchen And Splashes Of Color Create A Fun And Relaxing Atmosphere For Adults And Kids Alike",
         "139939",
         "San Vicente",
         "Casco Antiguo",
         "Entire Home Apt",
         "4",
         "1",
         "2",
         "2",
         "TV,Internet,Wifi,Air conditioning,Wheelchair accessible,Kitchen,Elevator,Buzzer/wireless intercom,Heating,Washer,Dryer,Smoke detector,Carbon monoxide detector,First aid kit,Fire extinguisher,Essentials,Shampoo,24-hour check-in,Hangers,Hair dryer,Iron,Laptop friendly workspace,Crib,Pack �n Play/travel crib,Body soap,Bath towel,Toilet paper,Bed linens,Extra pillows and blankets,Coffee maker,Host greets you,Full kitchen,Bedroom comforts,Bathroom essentials",
         "990.0",
         "247.5",
         "2",
         "120",
         "True",
         "26",
         "4",
         "13.333333333333334",
         "31",
         "29",
         "31",
         "59",
         "270",
         "95",
         "148",
         "2011-01-05 00:00:00",
         "2019-07-22 00:00:00",
         "98.0",
         "10.0",
         "10.0",
         "10.0",
         "10.0",
         "10.0",
         "10.0",
         "10.0",
         "142.0",
         "Spain",
         "Sevilla",
         "2019-07-29 00:00:00",
         "True",
         "48.0",
         "Sevilla_Casco Antiguo_San Vicente"
        ],
        [
         "3",
         "35379",
         "Double 02 Casanovarooms Barcelona",
         "Room At A My Apartment Kitchen And 2 Bathrooms To Share Free Self Service Breakfast Free Wifi Tv Towels Bed Linen Ceiling Fan Desk And Balcony To The Back Of The Building I Also Have At Guests Disposal Vanity Kits And Hairdryers Washing Machine Iron And Printer On Request My Apartment Is Located In The Eixample Quarter Close To The Commercial Area And The Centre Of Town I Provide Private Rooms One Single Room And Two Double Rooms With Self-Service Breakfast You Can Also Use The Kitchen To Cook Quick Meals I Also Provide Free Wifi Connection All Rooms Are Equipped With A Tv Set Clean Bed Linen Fresh Towels Heating And A Ceiling Fan I Am On To The Blue Line L5 And The Underground Station Is Hospital Clnic Make Sure You Take The Exit Marked As Sortida Villarroel Clnic From There On You Only Need To Walk 1 Minute To Carrer Casanova Though Located Centrally We'Re On A Residential And Not Touristic Neighborhood Metro Stop Hospital Clinic Line 5 Blue",
         "152232",
         "L'Antiga Esquerra De L'Eixample",
         "Eixample",
         "Private Room",
         "2",
         "2",
         "1",
         "1",
         "TV,Internet,Wifi,Kitchen,Breakfast,Elevator,Buzzer/wireless intercom,Heating,Washer,Essentials,Lock on bedroom door,Hangers,Hair dryer,Iron,translation missing: en.hosting_amenity_49,translation missing: en.hosting_amenity_50,Hot water,Microwave,Coffee maker,Refrigerator,Dishes and silverware,Cooking basics,Stove,Patio or balcony,Host greets you,Paid parking on premises,Shower gel",
         "400.0",
         "200.0",
         "2",
         "730",
         "True",
         "9",
         "21",
         "70.0",
         "23",
         "37",
         "49",
         "41",
         "300",
         "65",
         "292",
         "2012-03-13 00:00:00",
         "2020-01-04 00:00:00",
         "94.0",
         "10.0",
         "9.0",
         "10.0",
         "10.0",
         "10.0",
         "9.0",
         "9.8",
         "306.0",
         "Spain",
         "Barcelona",
         "2020-01-10 00:00:00",
         "True",
         "56.0",
         "Barcelona_Eixample_L'Antiga Esquerra De L'Eixample"
        ],
        [
         "4",
         "35801",
         "Can Torras Farmhouse Studio Suite",
         "Lay In Bed Watch Sunlight Change The Mood Of Distant Valley Hills This Suite Of Rooms Includes A Double Bedroom Twin Bed Room Space For A Third Private Bathroom Entrance Living Dining Area Plus A Delicious Home-Made Breakfast There'S A Jacuzzi Plunge Pool Pergola Organic Gardens To Explore The Ancient City Of Girona Is Only 20 Mins Away Great For Romantic Breaks Families With Older Children English Spoken Proud To Be Fully Registered With The Catalan Tourist Board Can Torras Is A Recently Renovated Ecolodge In The National Park Of Gavarres On A Hill Top Behind The Ancient City Of Girona This Suite Has All The Charm Of An Old Farmhouse But The Services Environmental Improvements Of Modern Living A Fantastic Breakfast Is Included In Your Stay Plus The Freedom To Wander In Our Organic Garden Relax In A Hammock Under The Pergola Plunge In The Pool Or Bask In Our Hot Spa As You Enjoy Magnificent Views Down The Valley The Studio Suite Includes A Doub",
         "153805",
         "Quart",
         null,
         "Private Room",
         "5",
         "1",
         "2",
         "5",
         "Wifi,Pool,Free parking on premises,Breakfast,Pets live on this property,Dog(s),Cat(s),Other pet(s),Hot tub,Indoor fireplace,Heating,Family/kid friendly,Washer,Dryer,Smoke detector,Carbon monoxide detector,Essentials,Shampoo,24-hour check-in,Hangers,Hair dryer,Iron,Laptop friendly workspace,translation missing: en.hosting_amenity_50,Bathtub,Baby bath,High chair,Children�s books and toys,Crib,Children�s dinnerware,Hot water,Bed linens,Extra pillows and blankets,Coffee maker,Refrigerator,Dishes and silverware,Garden or backyard,Luggage dropoff allowed,Long term stays allowed,Wide hallway clearance,Wide doorway,Well-lit path to entrance,Host greets you",
         "900.0",
         "180.0",
         "1",
         "180",
         "True",
         "0",
         "30",
         "100.0",
         "19",
         "41",
         "49",
         "41",
         "312",
         "53",
         "36",
         "2011-07-08 00:00:00",
         "2018-08-08 00:00:00",
         "97.0",
         "10.0",
         "10.0",
         "10.0",
         "10.0",
         "10.0",
         "10.0",
         "10.0",
         "39.0",
         "Spain",
         "Girona",
         "2019-02-19 00:00:00",
         "False",
         "66.0",
         "Girona_Quart"
        ]
       ],
       "shape": {
        "columns": 44,
        "rows": 5
       }
      },
      "text/html": [
       "<div>\n",
       "<style scoped>\n",
       "    .dataframe tbody tr th:only-of-type {\n",
       "        vertical-align: middle;\n",
       "    }\n",
       "\n",
       "    .dataframe tbody tr th {\n",
       "        vertical-align: top;\n",
       "    }\n",
       "\n",
       "    .dataframe thead th {\n",
       "        text-align: right;\n",
       "    }\n",
       "</style>\n",
       "<table border=\"1\" class=\"dataframe\">\n",
       "  <thead>\n",
       "    <tr style=\"text-align: right;\">\n",
       "      <th></th>\n",
       "      <th>apartment_id</th>\n",
       "      <th>name</th>\n",
       "      <th>description</th>\n",
       "      <th>host_id</th>\n",
       "      <th>neighbourhood_name</th>\n",
       "      <th>neighbourhood_district</th>\n",
       "      <th>room_type</th>\n",
       "      <th>accommodates</th>\n",
       "      <th>bathrooms</th>\n",
       "      <th>bedrooms</th>\n",
       "      <th>...</th>\n",
       "      <th>review_scores_location</th>\n",
       "      <th>review_scores_value</th>\n",
       "      <th>general_satisf</th>\n",
       "      <th>reviews_per_month</th>\n",
       "      <th>country</th>\n",
       "      <th>city</th>\n",
       "      <th>insert_date</th>\n",
       "      <th>is_instant_bookable</th>\n",
       "      <th>amenities_score</th>\n",
       "      <th>zona</th>\n",
       "    </tr>\n",
       "  </thead>\n",
       "  <tbody>\n",
       "    <tr>\n",
       "      <th>0</th>\n",
       "      <td>11964</td>\n",
       "      <td>A Room With A View</td>\n",
       "      <td>Private Bedroom In Our Attic Apartment Right I...</td>\n",
       "      <td>45553</td>\n",
       "      <td>Centro</td>\n",
       "      <td>NaN</td>\n",
       "      <td>Private Room</td>\n",
       "      <td>2</td>\n",
       "      <td>2</td>\n",
       "      <td>1</td>\n",
       "      <td>...</td>\n",
       "      <td>10.0</td>\n",
       "      <td>10.0</td>\n",
       "      <td>10.0</td>\n",
       "      <td>75.0</td>\n",
       "      <td>Spain</td>\n",
       "      <td>Malaga</td>\n",
       "      <td>2018-07-31</td>\n",
       "      <td>False</td>\n",
       "      <td>40.0</td>\n",
       "      <td>Malaga_Centro</td>\n",
       "    </tr>\n",
       "    <tr>\n",
       "      <th>1</th>\n",
       "      <td>21853</td>\n",
       "      <td>Bright And Airy Room</td>\n",
       "      <td>We Have A Quiet And Sunny Room With A Good Vie...</td>\n",
       "      <td>83531</td>\n",
       "      <td>Crmenes</td>\n",
       "      <td>Latina</td>\n",
       "      <td>Private Room</td>\n",
       "      <td>1</td>\n",
       "      <td>1</td>\n",
       "      <td>1</td>\n",
       "      <td>...</td>\n",
       "      <td>8.0</td>\n",
       "      <td>9.0</td>\n",
       "      <td>9.2</td>\n",
       "      <td>52.0</td>\n",
       "      <td>Spain</td>\n",
       "      <td>Madrid</td>\n",
       "      <td>2020-01-10</td>\n",
       "      <td>False</td>\n",
       "      <td>58.0</td>\n",
       "      <td>Madrid_Latina_Crmenes</td>\n",
       "    </tr>\n",
       "    <tr>\n",
       "      <th>2</th>\n",
       "      <td>32347</td>\n",
       "      <td>Explore Cultural Sights From A Family-Friendly...</td>\n",
       "      <td>Open French Doors And Step Onto A Plant-Filled...</td>\n",
       "      <td>139939</td>\n",
       "      <td>San Vicente</td>\n",
       "      <td>Casco Antiguo</td>\n",
       "      <td>Entire Home Apt</td>\n",
       "      <td>4</td>\n",
       "      <td>1</td>\n",
       "      <td>2</td>\n",
       "      <td>...</td>\n",
       "      <td>10.0</td>\n",
       "      <td>10.0</td>\n",
       "      <td>10.0</td>\n",
       "      <td>142.0</td>\n",
       "      <td>Spain</td>\n",
       "      <td>Sevilla</td>\n",
       "      <td>2019-07-29</td>\n",
       "      <td>True</td>\n",
       "      <td>48.0</td>\n",
       "      <td>Sevilla_Casco Antiguo_San Vicente</td>\n",
       "    </tr>\n",
       "    <tr>\n",
       "      <th>3</th>\n",
       "      <td>35379</td>\n",
       "      <td>Double 02 Casanovarooms Barcelona</td>\n",
       "      <td>Room At A My Apartment Kitchen And 2 Bathrooms...</td>\n",
       "      <td>152232</td>\n",
       "      <td>L'Antiga Esquerra De L'Eixample</td>\n",
       "      <td>Eixample</td>\n",
       "      <td>Private Room</td>\n",
       "      <td>2</td>\n",
       "      <td>2</td>\n",
       "      <td>1</td>\n",
       "      <td>...</td>\n",
       "      <td>10.0</td>\n",
       "      <td>9.0</td>\n",
       "      <td>9.8</td>\n",
       "      <td>306.0</td>\n",
       "      <td>Spain</td>\n",
       "      <td>Barcelona</td>\n",
       "      <td>2020-01-10</td>\n",
       "      <td>True</td>\n",
       "      <td>56.0</td>\n",
       "      <td>Barcelona_Eixample_L'Antiga Esquerra De L'Eixa...</td>\n",
       "    </tr>\n",
       "    <tr>\n",
       "      <th>4</th>\n",
       "      <td>35801</td>\n",
       "      <td>Can Torras Farmhouse Studio Suite</td>\n",
       "      <td>Lay In Bed Watch Sunlight Change The Mood Of D...</td>\n",
       "      <td>153805</td>\n",
       "      <td>Quart</td>\n",
       "      <td>NaN</td>\n",
       "      <td>Private Room</td>\n",
       "      <td>5</td>\n",
       "      <td>1</td>\n",
       "      <td>2</td>\n",
       "      <td>...</td>\n",
       "      <td>10.0</td>\n",
       "      <td>10.0</td>\n",
       "      <td>10.0</td>\n",
       "      <td>39.0</td>\n",
       "      <td>Spain</td>\n",
       "      <td>Girona</td>\n",
       "      <td>2019-02-19</td>\n",
       "      <td>False</td>\n",
       "      <td>66.0</td>\n",
       "      <td>Girona_Quart</td>\n",
       "    </tr>\n",
       "  </tbody>\n",
       "</table>\n",
       "<p>5 rows × 44 columns</p>\n",
       "</div>"
      ],
      "text/plain": [
       "   apartment_id                                               name  \\\n",
       "0         11964                                 A Room With A View   \n",
       "1         21853                               Bright And Airy Room   \n",
       "2         32347  Explore Cultural Sights From A Family-Friendly...   \n",
       "3         35379                  Double 02 Casanovarooms Barcelona   \n",
       "4         35801                  Can Torras Farmhouse Studio Suite   \n",
       "\n",
       "                                         description  host_id  \\\n",
       "0  Private Bedroom In Our Attic Apartment Right I...    45553   \n",
       "1  We Have A Quiet And Sunny Room With A Good Vie...    83531   \n",
       "2  Open French Doors And Step Onto A Plant-Filled...   139939   \n",
       "3  Room At A My Apartment Kitchen And 2 Bathrooms...   152232   \n",
       "4  Lay In Bed Watch Sunlight Change The Mood Of D...   153805   \n",
       "\n",
       "                neighbourhood_name neighbourhood_district        room_type  \\\n",
       "0                           Centro                    NaN     Private Room   \n",
       "1                          Crmenes                 Latina     Private Room   \n",
       "2                      San Vicente          Casco Antiguo  Entire Home Apt   \n",
       "3  L'Antiga Esquerra De L'Eixample               Eixample     Private Room   \n",
       "4                            Quart                    NaN     Private Room   \n",
       "\n",
       "   accommodates  bathrooms  bedrooms  ...  review_scores_location  \\\n",
       "0             2          2         1  ...                    10.0   \n",
       "1             1          1         1  ...                     8.0   \n",
       "2             4          1         2  ...                    10.0   \n",
       "3             2          2         1  ...                    10.0   \n",
       "4             5          1         2  ...                    10.0   \n",
       "\n",
       "  review_scores_value  general_satisf  reviews_per_month  country       city  \\\n",
       "0                10.0            10.0               75.0    Spain     Malaga   \n",
       "1                 9.0             9.2               52.0    Spain     Madrid   \n",
       "2                10.0            10.0              142.0    Spain    Sevilla   \n",
       "3                 9.0             9.8              306.0    Spain  Barcelona   \n",
       "4                10.0            10.0               39.0    Spain     Girona   \n",
       "\n",
       "  insert_date  is_instant_bookable  amenities_score  \\\n",
       "0  2018-07-31                False             40.0   \n",
       "1  2020-01-10                False             58.0   \n",
       "2  2019-07-29                 True             48.0   \n",
       "3  2020-01-10                 True             56.0   \n",
       "4  2019-02-19                False             66.0   \n",
       "\n",
       "                                                zona  \n",
       "0                                      Malaga_Centro  \n",
       "1                              Madrid_Latina_Crmenes  \n",
       "2                  Sevilla_Casco Antiguo_San Vicente  \n",
       "3  Barcelona_Eixample_L'Antiga Esquerra De L'Eixa...  \n",
       "4                                       Girona_Quart  \n",
       "\n",
       "[5 rows x 44 columns]"
      ]
     },
     "execution_count": 17,
     "metadata": {},
     "output_type": "execute_result"
    }
   ],
   "source": [
    "df_transf.head()"
   ]
  },
  {
   "cell_type": "code",
   "execution_count": 18,
   "id": "342e66e5",
   "metadata": {},
   "outputs": [
    {
     "name": "stdout",
     "output_type": "stream",
     "text": [
      "Datos limpios guardados en: data/staySpain_transformed.pkl\n",
      "Datos limpios guardados en: data/staySpain_transformed.csv\n"
     ]
    }
   ],
   "source": [
    "output_path = r\"data/staySpain_transformed.pkl\"\n",
    "df_transf.to_pickle(output_path)\n",
    "output_path2 = r\"data/staySpain_transformed.csv\"\n",
    "df_transf.to_csv(output_path2)\n",
    "print(f\"Datos limpios guardados en: {output_path}\")\n",
    "print(f\"Datos limpios guardados en: {output_path2}\")"
   ]
  }
 ],
 "metadata": {
  "kernelspec": {
   "display_name": "Python 3",
   "language": "python",
   "name": "python3"
  },
  "language_info": {
   "codemirror_mode": {
    "name": "ipython",
    "version": 3
   },
   "file_extension": ".py",
   "mimetype": "text/x-python",
   "name": "python",
   "nbconvert_exporter": "python",
   "pygments_lexer": "ipython3",
   "version": "3.12.4"
  }
 },
 "nbformat": 4,
 "nbformat_minor": 5
}
