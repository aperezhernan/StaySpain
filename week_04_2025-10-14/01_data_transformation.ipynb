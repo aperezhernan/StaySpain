{
 "cells": [
  {
   "cell_type": "code",
   "execution_count": 1,
   "id": "dec8e921-2d79-47f2-bb59-7226f2d2634d",
   "metadata": {},
   "outputs": [],
   "source": [
    "import pandas as pd"
   ]
  },
  {
   "cell_type": "markdown",
   "id": "ab8b5f7d-4774-4135-b296-304aa817603d",
   "metadata": {},
   "source": [
    "### Loading CSV"
   ]
  },
  {
   "cell_type": "code",
   "execution_count": 2,
   "id": "d9a3187a-427c-46da-b985-ef1703878667",
   "metadata": {},
   "outputs": [],
   "source": [
    "viajeros_pernoctaciones = pd.read_csv(\"data/viajeros_pernoctaciones_raw.csv\")\n",
    "viajeros_nacionales = pd.read_csv(\"data/viajeros_nacionales_raw.csv\")\n",
    "viajeros_extranjeros = pd.read_csv(\"data/viajeros_extranjeros_raw.csv\", sep=\";\")"
   ]
  },
  {
   "cell_type": "code",
   "execution_count": 3,
   "id": "97e488f4-e217-4320-851d-1cc06684628b",
   "metadata": {},
   "outputs": [],
   "source": [
    "pd.set_option('display.max_rows', None)  # Show all rows\n",
    "pd.set_option('display.max_columns', None)  # Show all columns"
   ]
  },
  {
   "cell_type": "markdown",
   "id": "f1afef0f-c102-432b-be52-bd2bba323946",
   "metadata": {},
   "source": [
    "### Simplify city names"
   ]
  },
  {
   "cell_type": "code",
   "execution_count": 4,
   "id": "0572349e-cdfb-45c5-922a-da455c95a2a8",
   "metadata": {},
   "outputs": [],
   "source": [
    "city_names = {\n",
    "    \"29 Málaga\" : \"Málaga\",\n",
    "    \"41 Sevilla\" : \"Sevilla\",\n",
    "    \"07 Balears, Illes\" : \"Illes Balears\",\n",
    "    \"08 Barcelona\" : \"Barcelona\",\n",
    "    \"17 Girona\" : \"Girona\",\n",
    "    \"46 Valencia/València\" : \"Valencia\",\n",
    "    \"28 Madrid\": \"Madrid\"\n",
    "    }\n"
   ]
  },
  {
   "cell_type": "code",
   "execution_count": 5,
   "id": "92676d99-3c29-4434-9274-a631ab8df64f",
   "metadata": {},
   "outputs": [],
   "source": [
    "viajeros_pernoctaciones['provincia_simp'] = viajeros_pernoctaciones['provincia'].replace(city_names)\n",
    "viajeros_nacionales['provincia_simp'] = viajeros_nacionales['zona'].replace(city_names)"
   ]
  },
  {
   "cell_type": "markdown",
   "id": "fd05bfeb-546a-4989-82db-e6c4f74df2a7",
   "metadata": {},
   "source": [
    "### Create id column"
   ]
  },
  {
   "cell_type": "code",
   "execution_count": 6,
   "id": "15f91bdc-5dd2-4101-b254-d70a578a6287",
   "metadata": {},
   "outputs": [],
   "source": [
    "#df['id'] = df['periodo'].astype(str) + '_' + df['provincia_simp']\n",
    "viajeros_pernoctaciones['id'] = viajeros_pernoctaciones['periodo'].astype(str) + '_' + viajeros_pernoctaciones['provincia_simp']\n",
    "viajeros_nacionales['id'] = viajeros_nacionales['periodos'].astype(str) + '_' + viajeros_pernoctaciones['provincia_simp']"
   ]
  },
  {
   "cell_type": "markdown",
   "id": "6cc497fb-c7b1-471b-934b-6484162d152b",
   "metadata": {},
   "source": [
    "### Estancia media"
   ]
  },
  {
   "cell_type": "code",
   "execution_count": 7,
   "id": "97062a32-6f75-430f-808d-461ea8df41f3",
   "metadata": {},
   "outputs": [],
   "source": [
    "viajeros_pernoctaciones['estancia_media_total'] = viajeros_pernoctaciones.pernoc_total / viajeros_pernoctaciones.viajeros_total\n",
    "viajeros_pernoctaciones['estancia_media_esp'] = viajeros_pernoctaciones.pernoc_esp / viajeros_pernoctaciones.viajeros_esp\n",
    "viajeros_pernoctaciones['estancia_media_ext'] = viajeros_pernoctaciones.pernoc_ext / viajeros_pernoctaciones.viajeros_ext"
   ]
  },
  {
   "cell_type": "code",
   "execution_count": 8,
   "id": "faeee7e6-602f-4d99-9b1a-15ec99ebbf35",
   "metadata": {},
   "outputs": [],
   "source": [
    "viajeros_extranjeros['viajeros'] = pd.to_numeric(viajeros_extranjeros['viajeros'].str.replace(',', ''), errors='coerce')\n",
    "viajeros_extranjeros['pernoctaciones'] = pd.to_numeric(viajeros_extranjeros['pernoctaciones'].str.replace(',', ''), errors='coerce')\n",
    "\n",
    "viajeros_extranjeros['estancia_media'] = viajeros_extranjeros.pernoctaciones / viajeros_extranjeros.viajeros"
   ]
  },
  {
   "cell_type": "markdown",
   "id": "bb0a73e7-4da5-475b-863d-050e79f50925",
   "metadata": {},
   "source": [
    "### Extracting iso_date, year and month"
   ]
  },
  {
   "cell_type": "code",
   "execution_count": 9,
   "id": "2f8a6182-026e-4ec7-aef7-171548b509b9",
   "metadata": {},
   "outputs": [],
   "source": [
    "viajeros_pernoctaciones['year'] = viajeros_pernoctaciones['periodo'].str[:4].astype(int)  \n",
    "viajeros_pernoctaciones['month'] = viajeros_pernoctaciones['periodo'].str[5:7].astype(int) \n",
    "viajeros_pernoctaciones['iso_date'] = pd.to_datetime(viajeros_pernoctaciones[['year', 'month']].assign(day=1))"
   ]
  },
  {
   "cell_type": "code",
   "execution_count": 10,
   "id": "717d2226-eecd-4a06-94c3-2bb7c8564cf5",
   "metadata": {},
   "outputs": [],
   "source": [
    "viajeros_nacionales['year'] = viajeros_nacionales['periodos'].str[:4].astype(int)  \n",
    "viajeros_nacionales['month'] = viajeros_nacionales['periodos'].str[5:7].astype(int) \n",
    "viajeros_nacionales['iso_date'] = pd.to_datetime(viajeros_nacionales[['year', 'month']].assign(day=1))"
   ]
  },
  {
   "cell_type": "code",
   "execution_count": 11,
   "id": "2d97ea28-3e2d-4bad-946c-d5da36cd8e80",
   "metadata": {},
   "outputs": [],
   "source": [
    "viajeros_extranjeros['year'] = viajeros_extranjeros['periodo'].str[:4].astype(int)  \n",
    "viajeros_extranjeros['month'] = viajeros_extranjeros['periodo'].str[5:7].astype(int) \n",
    "viajeros_extranjeros['iso_date'] = pd.to_datetime(viajeros_extranjeros[['year', 'month']].assign(day=1))"
   ]
  },
  {
   "cell_type": "markdown",
   "id": "23c745fa-6e3e-4317-9e62-28d67310fe39",
   "metadata": {},
   "source": [
    "### Saving transformed CSV"
   ]
  },
  {
   "cell_type": "code",
   "execution_count": 12,
   "id": "3435d06c-93ab-4da4-b604-af66230939ea",
   "metadata": {},
   "outputs": [],
   "source": [
    "viajeros_pernoctaciones.to_csv(\"data/viajeros_pernoctaciones_estancia.csv\")\n",
    "viajeros_nacionales.to_csv(\"data/viajeros_nacionales.csv\")\n",
    "viajeros_extranjeros.to_csv(\"data/viajeros_extranjeros.csv\")"
   ]
  }
 ],
 "metadata": {
  "kernelspec": {
   "display_name": "Python [conda env:itacademy] *",
   "language": "python",
   "name": "conda-env-itacademy-py"
  },
  "language_info": {
   "codemirror_mode": {
    "name": "ipython",
    "version": 3
   },
   "file_extension": ".py",
   "mimetype": "text/x-python",
   "name": "python",
   "nbconvert_exporter": "python",
   "pygments_lexer": "ipython3",
   "version": "3.13.2"
  }
 },
 "nbformat": 4,
 "nbformat_minor": 5
}
